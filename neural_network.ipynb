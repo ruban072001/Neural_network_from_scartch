{
 "cells": [
  {
   "cell_type": "code",
   "execution_count": 1,
   "id": "dc5c1da4-0f94-4a2f-a009-eeb73eb7d1e4",
   "metadata": {},
   "outputs": [],
   "source": [
    "import numpy as np\n",
    "from typing import Union"
   ]
  },
  {
   "cell_type": "code",
   "execution_count": 2,
   "id": "86a02383",
   "metadata": {},
   "outputs": [],
   "source": [
    "Array = Union[float, np.ndarray]"
   ]
  },
  {
   "cell_type": "code",
   "execution_count": null,
   "id": "293001a4-2d5a-484a-a47a-2d1312de466c",
   "metadata": {},
   "outputs": [],
   "source": [
    "\n",
    "class ReLU:\n",
    "\n",
    "    \"\"\"\n",
    "    ReLU Activation Function\n",
    "\n",
    "    Forward:\n",
    "        f(x) = max(0, x)\n",
    "\n",
    "    Backward:\n",
    "        f'(x) = 1 if x > 0 else 0\n",
    "    \"\"\"\n",
    "    def forward(self, x: Array) -> Array:\n",
    "        \"\"\"Applies ReLU Activation function to input X.\"\"\"\n",
    "\n",
    "        self.input = x\n",
    "        return np.maximum(0, x)\n",
    "\n",
    "    def backward(self, grad_output: Array) -> Array:\n",
    "        \"\"\"Computes the gradient of ReLU with respect to input x.\n",
    "        grad_output is the gradient flowing from the next layer.\"\"\"\n",
    "\n",
    "        return grad_output * (self.input > 0)"
   ]
  },
  {
   "cell_type": "code",
   "execution_count": 25,
   "id": "9184d7df-e734-4c8c-9a4b-2038a9c4749e",
   "metadata": {},
   "outputs": [],
   "source": [
    "class Sigmoid:\n",
    "    \"\"\"\n",
    "    Sigmoid Activation Function\n",
    "\n",
    "    Forward:\n",
    "        f(x) = 1 / (1 + e^(-x))\n",
    "\n",
    "    Backward:\n",
    "        f'(x) = f(x) * (1 - f(x))\n",
    "    \"\"\"\n",
    "\n",
    "    def forward(self, x: Array) -> Array:\n",
    "        \"\"\"Applies Sigmoid Activation function to input X.\"\"\"\n",
    "        \n",
    "        self.output = 1 / (1 + np.exp(-x))\n",
    "        return self.output\n",
    "    \n",
    "    def backward(self, grad_output: Array) -> Array:\n",
    "        \"\"\"Computes the gradient of Sigmoid with respect to input x.\n",
    "        grad_output is the gradient flowing from the next layer.\"\"\"\n",
    "\n",
    "        return grad_output * (self.output * (1 - self.output))"
   ]
  },
  {
   "cell_type": "code",
   "execution_count": 26,
   "id": "33fac4ce-50b6-4b64-9f0a-e38aad43ce9c",
   "metadata": {},
   "outputs": [],
   "source": [
    "class Tanh:\n",
    "    \"\"\"\n",
    "    Tanh Activation Function\n",
    "\n",
    "    Forward:\n",
    "        tanh(x) = (e^x - e^-x) / (e^x + e^-x)\n",
    "\n",
    "    Backward:\n",
    "        d/dx tanh(x) = 1 - tanh(x)^2\n",
    "    \"\"\"\n",
    "\n",
    "    def forward(self, x: Array) -> Array:\n",
    "        \"\"\"Applies Tanh Activation function to input X.\"\"\"\n",
    "        \n",
    "        self.output = np.tanh(x)\n",
    "        return self.output\n",
    "        \n",
    "    def backward(self, grad_output: Array) -> Array:\n",
    "        \"\"\"Computes the gradient of Tanh with respect to input x.\n",
    "        grad_output is the gradient flowing from the next layer.\"\"\"\n",
    "\n",
    "        return grad_output * (1 - (self.output ** 2))"
   ]
  },
  {
   "cell_type": "code",
   "execution_count": 3,
   "id": "95354cc1-bd28-4642-9799-72a8232938ff",
   "metadata": {},
   "outputs": [],
   "source": [
    "class LeakyReLU:\n",
    "    \"\"\"\n",
    "    LeakyReLU Activation Function\n",
    "\n",
    "    Forward:\n",
    "        f(x) = max(0, αx)\n",
    "\n",
    "    Backward:\n",
    "        f'(x) = 1 if x >= 0 else α\n",
    "    \"\"\"\n",
    "\n",
    "    def __init__(self, alpha: float = 0.01):\n",
    "        self.alpha = alpha\n",
    "        \n",
    "    def forward(self, x: Array) -> Array:\n",
    "        \"\"\"Applies LeakyReLU Activation function to input X.\"\"\"\n",
    "        self.input = x\n",
    "        return np.where(x >= 0, x, self.alpha * x)\n",
    "\n",
    "    def backward(self, grad_output: Array) -> Array:\n",
    "        \"\"\"Computes the gradient of LeakyReLU with respect to input x.\n",
    "        grad_output is the gradient flowing from the next layer.\"\"\"\n",
    "\n",
    "        return grad_output * (np.where(self.input >= 0, 1, self.alpha))"
   ]
  },
  {
   "cell_type": "code",
   "execution_count": 28,
   "id": "75f9af7d-5b76-411e-9404-28370da13a79",
   "metadata": {},
   "outputs": [],
   "source": [
    "class Softmax:\n",
    "    \"\"\"\n",
    "    Softmax Activation Function\n",
    "\n",
    "    Forward:\n",
    "        softmax(z_i) = e^(z_i) / sum(e^(z_j))\n",
    "\n",
    "    Backward:\n",
    "        Returns gradient of softmax output w.r.t input z\n",
    "        Usually combined with CrossEntropy for efficient backprop\n",
    "    \"\"\"\n",
    "\n",
    "    def forward(self, x: Array) -> Array:\n",
    "        \n",
    "        \"\"\"Applies Softmax Activation function to input X.\"\"\"\n",
    "\n",
    "        x = np.atleast_2d(x)\n",
    "        x_shifted = x - np.max(x, axis=1, keepdims=True)\n",
    "        exps = np.exp(x_shifted)\n",
    "        self.output = exps / np.sum(exps, axis=1, keepdims=True)\n",
    "        return self.output\n",
    "\n",
    "    def backward(self, grad_output: Array) -> Array:\n",
    "        \"\"\"\n",
    "        Compute softmax derivative using the Jacobian matrix.\n",
    "        Rarely used alone — often fused with cross-entropy for speed.\n",
    "        \"\"\"\n",
    "        batch_size, classes = grad_output.shape\n",
    "        grad_input = np.ones_like(grad_output)\n",
    "\n",
    "        for b in range(batch_size):\n",
    "            y = self.output[b].reshape(-1, 1)\n",
    "            jacobian = np.diagflat(y) - np.dot(y, y.T)\n",
    "            grad_input[b] = np.dot(jacobian, grad_output[b])\n",
    "\n",
    "        return grad_input"
   ]
  },
  {
   "cell_type": "code",
   "execution_count": 4,
   "id": "fee9719a-bd38-4997-be72-de968f6e85a0",
   "metadata": {},
   "outputs": [],
   "source": [
    "class CrossEntropywithSoftmax:\n",
    "    \n",
    "    def __init__(self):\n",
    "        self.logit: Union[np.ndarray, None] = None\n",
    "        self.probs: Union[np.ndarray, None] = None\n",
    "        self.target: Union[np.ndarray, None] = None\n",
    "\n",
    "\n",
    "    def forward(self, x: Array, target: Array) -> float:\n",
    "\n",
    "        self.logit = x\n",
    "        self.target = target\n",
    "\n",
    "        x = np.atleast_2d(x)\n",
    "        shifted_x = x - np.max(x, axis=1, keepdims=True)\n",
    "        exps = np.exp(shifted_x)\n",
    "        self.probs = exps / np.sum(exps, axis=1, keepdims=True)\n",
    "\n",
    "        if target.ndim == 1:\n",
    "            one_hot = np.zeros_like(x)\n",
    "            one_hot[np.arange(len(target)), target] = 1\n",
    "            self.target = one_hot\n",
    "\n",
    "        eps = 1e-10\n",
    "        loss_prob = np.log(np.clip(self.probs, eps, 1 - eps))\n",
    "        loss = -np.sum(loss_prob * self.target) / x.shape[0]\n",
    "        return loss\n",
    "\n",
    "    def backward(self):\n",
    "\n",
    "        return (self.probs - self.target) / self.logit.shape[0]"
   ]
  },
  {
   "cell_type": "code",
   "execution_count": 5,
   "id": "eb802cc6-832a-4221-903b-c4de6429d651",
   "metadata": {},
   "outputs": [],
   "source": [
    "class Dense:\n",
    "\n",
    "    def __init__(self, input_dim: int, output_dim: int):\n",
    "        \"\"\"\n",
    "        Initialize weights and bias.\n",
    "        Weights are small random values.\n",
    "        Bias is initialized to zero.\n",
    "        \"\"\"\n",
    "\n",
    "        self.input_dim = input_dim\n",
    "        self.output_dim = output_dim\n",
    "\n",
    "        limit = np.sqrt(6 / (input_dim + output_dim))\n",
    "        self.w = np.random.uniform(-limit, limit, (output_dim, input_dim))\n",
    "        self.b = np.zeros((1, output_dim))\n",
    "\n",
    "        self.input: Union[np.ndarray, None] = None\n",
    "        self.dw: Union[np.ndarray, None] = None\n",
    "        self.db: Union[np.ndarray, None] = None\n",
    "\n",
    "    def forward(self, x: Array) -> Array:\n",
    "        \"\"\"\n",
    "        Forward pass: output = xW^T + b\n",
    "        \"\"\"\n",
    "        self.input = np.atleast_2d(x)\n",
    "        return np.dot(self.input, self.w.T) + self.b\n",
    "\n",
    "    def backward(self, grad_output: Array) -> Array:\n",
    "        \"\"\"\n",
    "        Backward pass:\n",
    "        - Compute gradients for weights and bias\n",
    "        - Return gradient w.r.t input for previous layer\n",
    "        \"\"\"\n",
    "        grad_output = np.atleast_2d(grad_output)\n",
    "\n",
    "        self.dw = np.dot(grad_output.T, self.input)\n",
    "        self.db = np.sum(grad_output, axis=0, keepdims=True)\n",
    "\n",
    "        grad_input = np.dot(grad_output, self.w)\n",
    "\n",
    "        return grad_input\n",
    "\n",
    "    def update(self, lr: float = 0.01):\n",
    "        \"\"\"\n",
    "        Update weights and biases using gradient descent\n",
    "        \"\"\"\n",
    "        self.w -= lr * self.dw\n",
    "        self.b -= lr * self.db"
   ]
  },
  {
   "cell_type": "code",
   "execution_count": 6,
   "id": "c52d4477-a54e-4880-8660-a546926522f0",
   "metadata": {},
   "outputs": [],
   "source": [
    "class Model:\n",
    "\n",
    "    def __init__(self):\n",
    "        self.layers = []\n",
    "\n",
    "    def add(self, layer):\n",
    "        \"\"\"Add a new layer (Dense, Activation) to the model.\"\"\"\n",
    "        self.layers.append(layer)\n",
    "\n",
    "    def forward(self, x):\n",
    "        \"\"\"Forward pass through all layers\"\"\"\n",
    "        for layer in self.layers:\n",
    "            x = layer.forward(x)\n",
    "        return x\n",
    "\n",
    "    def backward(self, grad_output):\n",
    "        \"\"\"Backward pass through all layers\"\"\"\n",
    "        for layer in reversed(self.layers):\n",
    "            grad_output = layer.backward(grad_output)\n",
    "        return grad_output\n",
    "\n",
    "    def fit(self, x, y, epochs, loss_fn, lr = 0.01, batch_size = 64):\n",
    "        n_samples = x.shape[0]\n",
    "        print(n_samples)\n",
    "        for epoch in range(epochs):\n",
    "            \n",
    "            indices = np.random.permutation(x.shape[0])\n",
    "            x_shuffled = x[indices]\n",
    "            y_shuffled = y[indices]\n",
    "            \n",
    "            total_loss = 0\n",
    "            correct = 0\n",
    "            \n",
    "            for batch in range(0, n_samples, batch_size):\n",
    "                \n",
    "                xb = x_shuffled[batch: batch + batch_size]\n",
    "                yb = y_shuffled[batch: batch + batch_size]\n",
    "                \n",
    "                output = self.forward(xb)\n",
    "\n",
    "                loss = loss_fn.forward(output, yb)\n",
    "\n",
    "                loss_grad = loss_fn.backward()\n",
    "                self.backward(loss_grad)\n",
    "\n",
    "                for layer in self.layers:\n",
    "                    if hasattr(layer, \"update\"):\n",
    "                        layer.update(lr)\n",
    "                        \n",
    "                        \n",
    "                total_loss += loss * xb.shape[0]\n",
    "                preds = np.argmax(output, axis=1)\n",
    "                labels = yb if yb.ndim == 1 else np.argmax(yb, axis=1)\n",
    "                correct += np.sum(preds == labels)\n",
    "                \n",
    "            avg_loss = total_loss / n_samples\n",
    "            acc = correct / n_samples\n",
    "            \n",
    "            print(f\"Epoch {epoch+1}/{epochs} | Loss: {avg_loss:.6f}  | acc: {acc:.4f}\")"
   ]
  },
  {
   "cell_type": "code",
   "execution_count": 32,
   "id": "3c05b7fc-4994-42f0-8565-bf94498f72fa",
   "metadata": {},
   "outputs": [],
   "source": [
    "class MSELoss:\n",
    "    \n",
    "    def forward(self, predicted, True_labels):\n",
    "        predicted = np.atleast_2d(predicted)\n",
    "        self.predicted = predicted\n",
    "        self.True_labels = True_labels\n",
    "        return 0.5 * np.mean((predicted - True_labels) ** 2)\n",
    "        \n",
    "    def backward(self):\n",
    "        return (self.predicted - self.True_labels) / self.True_labels.shape[0]"
   ]
  },
  {
   "cell_type": "code",
   "execution_count": 33,
   "id": "d990f6b3-16fa-4e67-af7d-cfc04dbf5a28",
   "metadata": {},
   "outputs": [],
   "source": [
    "# class SGD:\n",
    "\n",
    "#     def __init__(self, lr: float = 0.01):\n",
    "#         self.lr = lr\n",
    "\n",
    "#     def step(self, layers):\n",
    "#         for layer in layers:\n",
    "#             if hasattr(layer, \"w\"):\n",
    "#                 layer.w -= self.lr * layer.dw\n",
    "#                 layer.b -= self.lr * layer.db"
   ]
  },
  {
   "cell_type": "code",
   "execution_count": 34,
   "id": "1c73943d-292a-4179-9561-c3e10e44693c",
   "metadata": {},
   "outputs": [
    {
     "data": {
      "text/plain": [
       "array([[ 0.71084982,  0.58914118,  0.57905041, -0.30811098,  0.4095885 ],\n",
       "       [ 0.35947451,  0.66453414,  0.63998865, -0.79460136,  0.02620583],\n",
       "       [ 0.83368385, -0.40343996,  0.52606912,  0.37074497, -0.46333073]])"
      ]
     },
     "execution_count": 34,
     "metadata": {},
     "output_type": "execute_result"
    }
   ],
   "source": [
    "x = np.random.uniform(-1, 1, (3, 5))\n",
    "x"
   ]
  },
  {
   "cell_type": "code",
   "execution_count": 35,
   "id": "ec9809db-b185-4b52-a84b-d50c8e24c8b0",
   "metadata": {},
   "outputs": [],
   "source": [
    "y_true = np.array([\n",
    "    [0, 1],\n",
    "    [1, 0],\n",
    "    [1, 0]\n",
    "])"
   ]
  },
  {
   "cell_type": "code",
   "execution_count": 16,
   "id": "1b29a0da-e9f2-4b98-8d1d-492017f86764",
   "metadata": {},
   "outputs": [],
   "source": [
    "import tensorflow as tf\n",
    "\n",
    "(x_train, y_train), (x_test, y_test) = tf.keras.datasets.mnist.load_data()\n",
    "x_train = x_train.reshape(60000, 784).astype('float32') / 255.0\n"
   ]
  },
  {
   "cell_type": "code",
   "execution_count": 17,
   "id": "1cf7587d-fa95-4dc9-a943-4c15a190c08a",
   "metadata": {},
   "outputs": [],
   "source": [
    "model = Model()"
   ]
  },
  {
   "cell_type": "code",
   "execution_count": 18,
   "id": "53035739-53ca-49d5-8483-5af876887328",
   "metadata": {},
   "outputs": [],
   "source": [
    "model.add(Dense(784, 128))\n",
    "model.add(LeakyReLU())\n",
    "model.add(Dense(128, 64))\n",
    "model.add(LeakyReLU())\n",
    "model.add(Dense(64, 10))\n",
    "loss = CrossEntropywithSoftmax()"
   ]
  },
  {
   "cell_type": "code",
   "execution_count": 19,
   "id": "45791772",
   "metadata": {},
   "outputs": [
    {
     "data": {
      "text/plain": [
       "60000"
      ]
     },
     "execution_count": 19,
     "metadata": {},
     "output_type": "execute_result"
    }
   ],
   "source": [
    "x_train.shape[0]"
   ]
  },
  {
   "cell_type": "code",
   "execution_count": 20,
   "id": "cc102df3-35c7-4e54-9ab1-673850b54ba0",
   "metadata": {},
   "outputs": [
    {
     "name": "stdout",
     "output_type": "stream",
     "text": [
      "60000\n",
      "Epoch 1/100 | Loss: 0.346091  | acc: 0.8990\n",
      "Epoch 2/100 | Loss: 0.155837  | acc: 0.9536\n",
      "Epoch 3/100 | Loss: 0.110974  | acc: 0.9671\n",
      "Epoch 4/100 | Loss: 0.085938  | acc: 0.9738\n",
      "Epoch 5/100 | Loss: 0.069203  | acc: 0.9790\n",
      "Epoch 6/100 | Loss: 0.056692  | acc: 0.9825\n",
      "Epoch 7/100 | Loss: 0.047229  | acc: 0.9865\n",
      "Epoch 8/100 | Loss: 0.040984  | acc: 0.9878\n",
      "Epoch 9/100 | Loss: 0.034174  | acc: 0.9897\n",
      "Epoch 10/100 | Loss: 0.029773  | acc: 0.9911\n",
      "Epoch 11/100 | Loss: 0.024627  | acc: 0.9928\n",
      "Epoch 12/100 | Loss: 0.020266  | acc: 0.9947\n",
      "Epoch 13/100 | Loss: 0.017755  | acc: 0.9951\n",
      "Epoch 14/100 | Loss: 0.015015  | acc: 0.9959\n",
      "Epoch 15/100 | Loss: 0.012250  | acc: 0.9971\n",
      "Epoch 16/100 | Loss: 0.010086  | acc: 0.9978\n",
      "Epoch 17/100 | Loss: 0.008503  | acc: 0.9985\n",
      "Epoch 18/100 | Loss: 0.006740  | acc: 0.9988\n",
      "Epoch 19/100 | Loss: 0.005673  | acc: 0.9991\n",
      "Epoch 20/100 | Loss: 0.004558  | acc: 0.9994\n",
      "Epoch 21/100 | Loss: 0.003633  | acc: 0.9997\n",
      "Epoch 22/100 | Loss: 0.003016  | acc: 0.9999\n",
      "Epoch 23/100 | Loss: 0.002680  | acc: 0.9999\n",
      "Epoch 24/100 | Loss: 0.002233  | acc: 0.9999\n",
      "Epoch 25/100 | Loss: 0.001994  | acc: 1.0000\n",
      "Epoch 26/100 | Loss: 0.001764  | acc: 1.0000\n",
      "Epoch 27/100 | Loss: 0.001610  | acc: 1.0000\n",
      "Epoch 28/100 | Loss: 0.001426  | acc: 1.0000\n",
      "Epoch 29/100 | Loss: 0.001338  | acc: 1.0000\n",
      "Epoch 30/100 | Loss: 0.001226  | acc: 1.0000\n",
      "Epoch 31/100 | Loss: 0.001151  | acc: 1.0000\n",
      "Epoch 32/100 | Loss: 0.001070  | acc: 1.0000\n",
      "Epoch 33/100 | Loss: 0.001000  | acc: 1.0000\n",
      "Epoch 34/100 | Loss: 0.000941  | acc: 1.0000\n",
      "Epoch 35/100 | Loss: 0.000892  | acc: 1.0000\n",
      "Epoch 36/100 | Loss: 0.000855  | acc: 1.0000\n",
      "Epoch 37/100 | Loss: 0.000806  | acc: 1.0000\n",
      "Epoch 38/100 | Loss: 0.000762  | acc: 1.0000\n",
      "Epoch 39/100 | Loss: 0.000730  | acc: 1.0000\n",
      "Epoch 40/100 | Loss: 0.000701  | acc: 1.0000\n",
      "Epoch 41/100 | Loss: 0.000668  | acc: 1.0000\n",
      "Epoch 42/100 | Loss: 0.000638  | acc: 1.0000\n",
      "Epoch 43/100 | Loss: 0.000616  | acc: 1.0000\n",
      "Epoch 44/100 | Loss: 0.000592  | acc: 1.0000\n",
      "Epoch 45/100 | Loss: 0.000570  | acc: 1.0000\n",
      "Epoch 46/100 | Loss: 0.000551  | acc: 1.0000\n",
      "Epoch 47/100 | Loss: 0.000528  | acc: 1.0000\n",
      "Epoch 48/100 | Loss: 0.000511  | acc: 1.0000\n",
      "Epoch 49/100 | Loss: 0.000492  | acc: 1.0000\n",
      "Epoch 50/100 | Loss: 0.000477  | acc: 1.0000\n",
      "Epoch 51/100 | Loss: 0.000464  | acc: 1.0000\n",
      "Epoch 52/100 | Loss: 0.000448  | acc: 1.0000\n",
      "Epoch 53/100 | Loss: 0.000435  | acc: 1.0000\n",
      "Epoch 54/100 | Loss: 0.000423  | acc: 1.0000\n",
      "Epoch 55/100 | Loss: 0.000411  | acc: 1.0000\n",
      "Epoch 56/100 | Loss: 0.000400  | acc: 1.0000\n",
      "Epoch 57/100 | Loss: 0.000388  | acc: 1.0000\n",
      "Epoch 58/100 | Loss: 0.000379  | acc: 1.0000\n",
      "Epoch 59/100 | Loss: 0.000368  | acc: 1.0000\n",
      "Epoch 60/100 | Loss: 0.000358  | acc: 1.0000\n",
      "Epoch 61/100 | Loss: 0.000350  | acc: 1.0000\n",
      "Epoch 62/100 | Loss: 0.000341  | acc: 1.0000\n",
      "Epoch 63/100 | Loss: 0.000334  | acc: 1.0000\n",
      "Epoch 64/100 | Loss: 0.000324  | acc: 1.0000\n",
      "Epoch 65/100 | Loss: 0.000318  | acc: 1.0000\n",
      "Epoch 66/100 | Loss: 0.000312  | acc: 1.0000\n",
      "Epoch 67/100 | Loss: 0.000304  | acc: 1.0000\n",
      "Epoch 68/100 | Loss: 0.000298  | acc: 1.0000\n",
      "Epoch 69/100 | Loss: 0.000291  | acc: 1.0000\n",
      "Epoch 70/100 | Loss: 0.000286  | acc: 1.0000\n",
      "Epoch 71/100 | Loss: 0.000278  | acc: 1.0000\n",
      "Epoch 72/100 | Loss: 0.000274  | acc: 1.0000\n",
      "Epoch 73/100 | Loss: 0.000268  | acc: 1.0000\n",
      "Epoch 74/100 | Loss: 0.000263  | acc: 1.0000\n",
      "Epoch 75/100 | Loss: 0.000257  | acc: 1.0000\n",
      "Epoch 76/100 | Loss: 0.000253  | acc: 1.0000\n",
      "Epoch 77/100 | Loss: 0.000248  | acc: 1.0000\n",
      "Epoch 78/100 | Loss: 0.000244  | acc: 1.0000\n",
      "Epoch 79/100 | Loss: 0.000239  | acc: 1.0000\n",
      "Epoch 80/100 | Loss: 0.000235  | acc: 1.0000\n",
      "Epoch 81/100 | Loss: 0.000230  | acc: 1.0000\n",
      "Epoch 82/100 | Loss: 0.000226  | acc: 1.0000\n",
      "Epoch 83/100 | Loss: 0.000222  | acc: 1.0000\n",
      "Epoch 84/100 | Loss: 0.000219  | acc: 1.0000\n",
      "Epoch 85/100 | Loss: 0.000215  | acc: 1.0000\n",
      "Epoch 86/100 | Loss: 0.000212  | acc: 1.0000\n",
      "Epoch 87/100 | Loss: 0.000208  | acc: 1.0000\n",
      "Epoch 88/100 | Loss: 0.000205  | acc: 1.0000\n",
      "Epoch 89/100 | Loss: 0.000202  | acc: 1.0000\n",
      "Epoch 90/100 | Loss: 0.000198  | acc: 1.0000\n",
      "Epoch 91/100 | Loss: 0.000195  | acc: 1.0000\n",
      "Epoch 92/100 | Loss: 0.000193  | acc: 1.0000\n",
      "Epoch 93/100 | Loss: 0.000189  | acc: 1.0000\n",
      "Epoch 94/100 | Loss: 0.000187  | acc: 1.0000\n",
      "Epoch 95/100 | Loss: 0.000184  | acc: 1.0000\n",
      "Epoch 96/100 | Loss: 0.000182  | acc: 1.0000\n",
      "Epoch 97/100 | Loss: 0.000179  | acc: 1.0000\n",
      "Epoch 98/100 | Loss: 0.000176  | acc: 1.0000\n",
      "Epoch 99/100 | Loss: 0.000174  | acc: 1.0000\n",
      "Epoch 100/100 | Loss: 0.000172  | acc: 1.0000\n"
     ]
    }
   ],
   "source": [
    "model.fit(x_train, y_train, epochs=100, loss_fn=loss, lr = 0.1)"
   ]
  },
  {
   "cell_type": "code",
   "execution_count": null,
   "id": "c771dba5-10c2-4a50-89c7-b943a8ab39c4",
   "metadata": {},
   "outputs": [],
   "source": [
    "import tensorflow as tf\n",
    "from tensorflow.keras.layers import Dense, ReLU, Softmax\n",
    "from tensorflow.keras.models import Sequential\n",
    "from tensorflow.keras.datasets import mnist\n",
    "from tensorflow.keras.utils import to_categorical\n",
    "\n",
    "# Load MNIST data\n",
    "(x_train, y_train), (x_test, y_test) = mnist.load_data()\n",
    "\n",
    "# Preprocess data\n",
    "x_train = x_train.reshape(-1, 28*28).astype('float32') / 255.0\n",
    "x_test = x_test.reshape(-1, 28*28).astype('float32') / 255.0\n",
    "\n",
    "# # Model definition\n",
    "# model = Sequential([\n",
    "#     Dense(16, input_shape=(784,)),\n",
    "#     ReLU(),\n",
    "#     Dense(16),\n",
    "#     ReLU(),\n",
    "#     Dense(10),\n",
    "#     Softmax()\n",
    "# ])\n",
    "\n",
    "# # Compile model\n",
    "# model.compile(\n",
    "#     optimizer='adam',\n",
    "#     loss='sparse_categorical_crossentropy',  # integer labels\n",
    "#     metrics=['accuracy']\n",
    "# )\n",
    "\n",
    "# # Train model\n",
    "# model.fit(\n",
    "#     x_train, y_train,\n",
    "#     validation_data=(x_test, y_test),\n",
    "#     epochs=10,\n",
    "#     batch_size=32\n",
    "# )\n",
    "\n",
    "# # Evaluate model\n",
    "# loss, accuracy = model.evaluate(x_test, y_test)\n",
    "# print(f\"Test loss: {loss:.4f}, Test accuracy: {accuracy:.4f}\")\n"
   ]
  },
  {
   "cell_type": "code",
   "execution_count": null,
   "id": "63f8dbc8-a0e1-4664-9f01-a1e07df11edb",
   "metadata": {},
   "outputs": [],
   "source": [
    "np.random.permutation(60000)"
   ]
  },
  {
   "cell_type": "code",
   "execution_count": null,
   "id": "11f505f0-573b-43c5-b6f3-084f26b0147d",
   "metadata": {},
   "outputs": [],
   "source": []
  },
  {
   "cell_type": "code",
   "execution_count": null,
   "id": "7c1feb11-318e-49e7-a9e8-1cbf53b58fc6",
   "metadata": {},
   "outputs": [],
   "source": []
  },
  {
   "cell_type": "code",
   "execution_count": null,
   "id": "e7299c0f-937c-4057-977a-4acf4bc92ba0",
   "metadata": {},
   "outputs": [],
   "source": []
  },
  {
   "cell_type": "code",
   "execution_count": null,
   "id": "18291e35-a1a4-4c48-9ed2-1570bb756525",
   "metadata": {},
   "outputs": [],
   "source": []
  },
  {
   "cell_type": "code",
   "execution_count": null,
   "id": "9829ba36-72b1-4b2b-90b1-7bbe91fe8d48",
   "metadata": {},
   "outputs": [],
   "source": []
  },
  {
   "cell_type": "code",
   "execution_count": null,
   "id": "39600e5b-cbd8-40d7-9e6f-43f9ddc1798a",
   "metadata": {},
   "outputs": [],
   "source": []
  },
  {
   "cell_type": "code",
   "execution_count": null,
   "id": "f0102913-2245-4ca1-a010-bb07a4fad9cb",
   "metadata": {},
   "outputs": [],
   "source": []
  },
  {
   "cell_type": "code",
   "execution_count": null,
   "id": "e10c7969-712b-4e67-bf55-e4f5115612fc",
   "metadata": {},
   "outputs": [],
   "source": []
  },
  {
   "cell_type": "code",
   "execution_count": null,
   "id": "856f6279-be9b-45df-aa74-6e2a86bb9add",
   "metadata": {},
   "outputs": [],
   "source": []
  },
  {
   "cell_type": "code",
   "execution_count": null,
   "id": "e9306a94-c31e-490c-b7ef-8c1b29c2608b",
   "metadata": {},
   "outputs": [],
   "source": []
  },
  {
   "cell_type": "code",
   "execution_count": null,
   "id": "d40d3fa7-bb8f-4d5d-8d88-4f9a9254381f",
   "metadata": {},
   "outputs": [],
   "source": []
  },
  {
   "cell_type": "code",
   "execution_count": null,
   "id": "6c2032de-303a-4bc2-9fba-987b71948275",
   "metadata": {},
   "outputs": [],
   "source": []
  },
  {
   "cell_type": "code",
   "execution_count": null,
   "id": "5c53e71e-bada-4dbf-a444-09b1917bd7b5",
   "metadata": {},
   "outputs": [],
   "source": []
  },
  {
   "cell_type": "code",
   "execution_count": null,
   "id": "d9877ef0-ac8c-4117-8c29-1a96d48bad35",
   "metadata": {},
   "outputs": [],
   "source": []
  },
  {
   "cell_type": "code",
   "execution_count": null,
   "id": "4b2c23d5-b2f7-457b-b341-6a46517d4c1e",
   "metadata": {},
   "outputs": [],
   "source": []
  },
  {
   "cell_type": "code",
   "execution_count": null,
   "id": "8dc7eba5-dc00-4f20-af5e-fb6f664e8c08",
   "metadata": {},
   "outputs": [],
   "source": []
  },
  {
   "cell_type": "code",
   "execution_count": null,
   "id": "de4250e0-b2e1-40cd-9aa5-7e79cc78852b",
   "metadata": {},
   "outputs": [],
   "source": []
  },
  {
   "cell_type": "code",
   "execution_count": null,
   "id": "038b1f65-4cd8-49e2-af99-df1960ba863a",
   "metadata": {},
   "outputs": [],
   "source": []
  },
  {
   "cell_type": "code",
   "execution_count": null,
   "id": "65b9f446-6423-4c93-855c-dabf0008bfc5",
   "metadata": {},
   "outputs": [],
   "source": []
  },
  {
   "cell_type": "code",
   "execution_count": null,
   "id": "e197e1fe-1aa2-4d73-a4ea-f782ac699f58",
   "metadata": {},
   "outputs": [],
   "source": []
  },
  {
   "cell_type": "code",
   "execution_count": null,
   "id": "55a93b58-0abf-4d38-8170-720514fa8033",
   "metadata": {},
   "outputs": [],
   "source": []
  },
  {
   "cell_type": "code",
   "execution_count": null,
   "id": "355ea1c5-eb7b-47ba-a5a1-e4cc9cb03709",
   "metadata": {},
   "outputs": [],
   "source": []
  },
  {
   "cell_type": "code",
   "execution_count": null,
   "id": "24241353-bf42-46f4-bb73-094aaff9ffa6",
   "metadata": {},
   "outputs": [],
   "source": []
  },
  {
   "cell_type": "code",
   "execution_count": null,
   "id": "4681ef56-11e3-45bb-bf03-cff3c7f26e8f",
   "metadata": {},
   "outputs": [],
   "source": []
  },
  {
   "cell_type": "code",
   "execution_count": null,
   "id": "ff83ae24-62bd-4d4a-ae98-d1504817204f",
   "metadata": {},
   "outputs": [],
   "source": []
  },
  {
   "cell_type": "code",
   "execution_count": null,
   "id": "ed261221-fb6c-4353-a990-564308a4f713",
   "metadata": {},
   "outputs": [],
   "source": []
  },
  {
   "cell_type": "code",
   "execution_count": null,
   "id": "f1afde07-eaa3-4687-abf2-475f2cb5b4f2",
   "metadata": {},
   "outputs": [],
   "source": []
  },
  {
   "cell_type": "code",
   "execution_count": null,
   "id": "0797fe0f-5fb3-4939-93f0-ae9dcff1ff30",
   "metadata": {},
   "outputs": [],
   "source": []
  },
  {
   "cell_type": "code",
   "execution_count": null,
   "id": "138e179c-c992-4224-828e-4620e758378d",
   "metadata": {},
   "outputs": [],
   "source": []
  },
  {
   "cell_type": "code",
   "execution_count": null,
   "id": "e5d88cbb-d1eb-413e-bcda-edc37907703b",
   "metadata": {},
   "outputs": [],
   "source": []
  },
  {
   "cell_type": "code",
   "execution_count": null,
   "id": "d86b7cc4-9b11-4eb5-ade2-d011d3b4d338",
   "metadata": {},
   "outputs": [],
   "source": []
  },
  {
   "cell_type": "code",
   "execution_count": null,
   "id": "aa75024b-ba93-42e9-bfb5-1456656a65f6",
   "metadata": {},
   "outputs": [],
   "source": []
  },
  {
   "cell_type": "code",
   "execution_count": null,
   "id": "9247dfd7-12e1-48cb-8ad0-cc432eedc6f2",
   "metadata": {},
   "outputs": [],
   "source": []
  },
  {
   "cell_type": "code",
   "execution_count": null,
   "id": "a993a814-c40c-4157-bd96-cbeff9130b5f",
   "metadata": {},
   "outputs": [],
   "source": []
  },
  {
   "cell_type": "code",
   "execution_count": null,
   "id": "bc9ac0c2-336c-4611-8ea5-997a8c81c96a",
   "metadata": {},
   "outputs": [],
   "source": []
  },
  {
   "cell_type": "code",
   "execution_count": null,
   "id": "968f5e51-0b44-4144-b9c7-2269b2c73228",
   "metadata": {},
   "outputs": [],
   "source": []
  },
  {
   "cell_type": "code",
   "execution_count": null,
   "id": "f033eba9-e06d-426d-b286-a3f2b6781e56",
   "metadata": {},
   "outputs": [],
   "source": []
  },
  {
   "cell_type": "code",
   "execution_count": null,
   "id": "966324ec-5dac-489f-9f41-b87857d3beb4",
   "metadata": {},
   "outputs": [],
   "source": []
  },
  {
   "cell_type": "code",
   "execution_count": null,
   "id": "554368fd-f247-4bec-9a68-d76edde6bf8e",
   "metadata": {},
   "outputs": [],
   "source": []
  },
  {
   "cell_type": "code",
   "execution_count": null,
   "id": "f996e7f7-e12f-454a-a7c3-db6503019b91",
   "metadata": {},
   "outputs": [],
   "source": []
  },
  {
   "cell_type": "code",
   "execution_count": null,
   "id": "4a6edcbf-eeac-4aa9-8416-d0ee20777966",
   "metadata": {},
   "outputs": [],
   "source": []
  },
  {
   "cell_type": "code",
   "execution_count": null,
   "id": "0160f647-5de4-4569-aa18-b9c849af9e83",
   "metadata": {},
   "outputs": [],
   "source": []
  },
  {
   "cell_type": "code",
   "execution_count": null,
   "id": "15899def-6edf-4aca-ab50-d86ee30473a1",
   "metadata": {},
   "outputs": [],
   "source": []
  },
  {
   "cell_type": "code",
   "execution_count": null,
   "id": "d52f9eda-92e9-4209-b7fe-ecbd34050558",
   "metadata": {},
   "outputs": [],
   "source": []
  },
  {
   "cell_type": "code",
   "execution_count": null,
   "id": "8a9ef8cc-b859-45a3-911f-548a841e7cd6",
   "metadata": {},
   "outputs": [],
   "source": []
  },
  {
   "cell_type": "code",
   "execution_count": null,
   "id": "5b57bfd3-eca8-4bf1-9a0f-34fe827ad0be",
   "metadata": {},
   "outputs": [],
   "source": []
  },
  {
   "cell_type": "code",
   "execution_count": 52,
   "id": "9c1b9824-fd32-4c11-a029-870115851154",
   "metadata": {},
   "outputs": [],
   "source": [
    "x = np.array([[1.0, 2.0]])\n",
    "y_true = np.array([[1.0]])"
   ]
  },
  {
   "cell_type": "code",
   "execution_count": 53,
   "id": "b223d5f7-ff3e-4259-8e7e-ceecbe41af95",
   "metadata": {},
   "outputs": [],
   "source": [
    "w1 = np.array([[-0.25091976,  0.90142861,  0.46398788,  0.19731697],\n",
    "       [-0.68796272, -0.68801096, -0.88383278,  0.73235229]])\n",
    "b1 = np.array([[0, 0, 0, 0]])"
   ]
  },
  {
   "cell_type": "code",
   "execution_count": 54,
   "id": "cc7a7d7a-b5f1-4b01-b3ef-ba3b036a0683",
   "metadata": {},
   "outputs": [
    {
     "data": {
      "text/plain": [
       "array([[-1.6268452 , -0.47459331, -1.30367768,  1.66202155]])"
      ]
     },
     "execution_count": 54,
     "metadata": {},
     "output_type": "execute_result"
    }
   ],
   "source": [
    "z1 = np.dot(x, w1) + b1\n",
    "z1"
   ]
  },
  {
   "cell_type": "code",
   "execution_count": 55,
   "id": "3fde7651-8f93-41a3-a382-c65b428cbb73",
   "metadata": {},
   "outputs": [
    {
     "data": {
      "text/plain": [
       "array([[0.        , 0.        , 0.        , 1.66202155]])"
      ]
     },
     "execution_count": 55,
     "metadata": {},
     "output_type": "execute_result"
    }
   ],
   "source": [
    "a1 = np.maximum(0, z1)\n",
    "a1"
   ]
  },
  {
   "cell_type": "code",
   "execution_count": 56,
   "id": "be4a5a03-4741-42f9-9a5f-4e63df2e5503",
   "metadata": {},
   "outputs": [],
   "source": [
    "w2 = np.array([[ 0.18722862,  0.38527555, -0.88770502],\n",
    "       [ 0.87010397,  0.61556416, -0.53264447],\n",
    "       [-0.58914568, -0.58622094, -0.36247293],\n",
    "       [ 0.04584   , -0.12601334, -0.38656852]])\n",
    "b2 = np.array([[0, 0, 0]])"
   ]
  },
  {
   "cell_type": "code",
   "execution_count": 57,
   "id": "b15f268e-a8d8-4053-b608-45829abb54ea",
   "metadata": {},
   "outputs": [
    {
     "data": {
      "text/plain": [
       "array([[ 0.07618707, -0.20943689, -0.64248521]])"
      ]
     },
     "execution_count": 57,
     "metadata": {},
     "output_type": "execute_result"
    }
   ],
   "source": [
    "z2 = np.dot(a1, w2) + b2\n",
    "z2"
   ]
  },
  {
   "cell_type": "code",
   "execution_count": 58,
   "id": "fad2c5d3-dbad-48ac-bcb1-94cc4283e586",
   "metadata": {},
   "outputs": [
    {
     "data": {
      "text/plain": [
       "array([[0.07618707, 0.        , 0.        ]])"
      ]
     },
     "execution_count": 58,
     "metadata": {},
     "output_type": "execute_result"
    }
   ],
   "source": [
    "a2 = np.maximum(0, z2)\n",
    "a2"
   ]
  },
  {
   "cell_type": "code",
   "execution_count": 59,
   "id": "83f99dce-71a9-413c-913f-17ee8137637b",
   "metadata": {},
   "outputs": [],
   "source": [
    "w3 = np.array([[ 0.27398252],\n",
    "       [-0.88305609],\n",
    "       [-0.50913955]])\n",
    "b3 = np.array([[0]])"
   ]
  },
  {
   "cell_type": "code",
   "execution_count": 61,
   "id": "08e405c5-0f59-46a1-97ac-5ac1e566921e",
   "metadata": {},
   "outputs": [
    {
     "data": {
      "text/plain": [
       "array([[0.02087392]])"
      ]
     },
     "execution_count": 61,
     "metadata": {},
     "output_type": "execute_result"
    }
   ],
   "source": [
    "z3 = np.dot(a2, w3) + b3\n",
    "z3"
   ]
  },
  {
   "cell_type": "code",
   "execution_count": 70,
   "id": "a9be4a51-758e-499e-85e4-7c0de5762bc2",
   "metadata": {},
   "outputs": [
    {
     "data": {
      "text/plain": [
       "array([[0.50521829]])"
      ]
     },
     "execution_count": 70,
     "metadata": {},
     "output_type": "execute_result"
    }
   ],
   "source": [
    "a3 = 1 / (1 + np.exp(-z3))\n",
    "a3"
   ]
  },
  {
   "cell_type": "code",
   "execution_count": 71,
   "id": "26b82c76-fd7a-4669-b5ba-097ec3465fab",
   "metadata": {},
   "outputs": [
    {
     "data": {
      "text/plain": [
       "0.12240446941668841"
      ]
     },
     "execution_count": 71,
     "metadata": {},
     "output_type": "execute_result"
    }
   ],
   "source": [
    "loss = 0.5 * np.mean((a3 - y_true) ** 2)\n",
    "loss"
   ]
  },
  {
   "cell_type": "code",
   "execution_count": 93,
   "id": "1c26411b-9a9c-4757-8a64-dbfc8432bf5c",
   "metadata": {},
   "outputs": [
    {
     "data": {
      "text/plain": [
       "array([[-0.49478171]])"
      ]
     },
     "execution_count": 93,
     "metadata": {},
     "output_type": "execute_result"
    }
   ],
   "source": [
    "loss_wrt_a3 = a3 - y_true\n",
    "loss_wrt_a3"
   ]
  },
  {
   "cell_type": "code",
   "execution_count": 94,
   "id": "a57eb2b3-58a6-47ae-af62-f5c23d63c8c2",
   "metadata": {},
   "outputs": [
    {
     "data": {
      "text/plain": [
       "array([[-0.12368195]])"
      ]
     },
     "execution_count": 94,
     "metadata": {},
     "output_type": "execute_result"
    }
   ],
   "source": [
    "a3_wrt_z3 = loss_wrt_a3 * a3 * (1 - a3)\n",
    "a3_wrt_z3"
   ]
  },
  {
   "cell_type": "code",
   "execution_count": 97,
   "id": "260323a2-2b7f-40eb-af3e-4aed93ffb2a3",
   "metadata": {},
   "outputs": [
    {
     "data": {
      "text/plain": [
       "array([[-0.00942297],\n",
       "       [ 0.        ],\n",
       "       [ 0.        ]])"
      ]
     },
     "execution_count": 97,
     "metadata": {},
     "output_type": "execute_result"
    }
   ],
   "source": [
    "z3_wrt_a2 = np.dot(a2.T, a3_wrt_z3)\n",
    "z3_wrt_a2"
   ]
  },
  {
   "cell_type": "code",
   "execution_count": 100,
   "id": "00204493-f2fd-43d8-b3e9-6f5766a61a4d",
   "metadata": {},
   "outputs": [
    {
     "data": {
      "text/plain": [
       "array([[-0.03388669,  0.1092181 ,  0.06297137]])"
      ]
     },
     "execution_count": 100,
     "metadata": {},
     "output_type": "execute_result"
    }
   ],
   "source": [
    "z3_wrt_a2_we = np.dot(a3_wrt_z3, w3.T)\n",
    "z3_wrt_a2_we"
   ]
  },
  {
   "cell_type": "code",
   "execution_count": 103,
   "id": "b1d27491-7e6f-4b1e-b26f-cb6da2a375f6",
   "metadata": {},
   "outputs": [
    {
     "data": {
      "text/plain": [
       "array([[-0.03388669,  0.        ,  0.        ]])"
      ]
     },
     "execution_count": 103,
     "metadata": {},
     "output_type": "execute_result"
    }
   ],
   "source": [
    "a2_wrt_z2 = np.where(z2>0, 1, 0) * z3_wrt_a2_we\n",
    "a2_wrt_z2"
   ]
  },
  {
   "cell_type": "code",
   "execution_count": 106,
   "id": "2143cfb4-6a03-4cb6-a708-b4f443e790a0",
   "metadata": {},
   "outputs": [
    {
     "data": {
      "text/plain": [
       "array([[ 0.        ,  0.        ,  0.        ],\n",
       "       [ 0.        ,  0.        ,  0.        ],\n",
       "       [ 0.        ,  0.        ,  0.        ],\n",
       "       [-0.05632041,  0.        ,  0.        ]])"
      ]
     },
     "execution_count": 106,
     "metadata": {},
     "output_type": "execute_result"
    }
   ],
   "source": [
    "z2_wrt_a1 = np.dot(a1.T, a2_wrt_z2)\n",
    "z2_wrt_a1"
   ]
  },
  {
   "cell_type": "code",
   "execution_count": 108,
   "id": "95e8d6db-b951-4019-a0a7-81d24fd2a89a",
   "metadata": {},
   "outputs": [
    {
     "data": {
      "text/plain": [
       "array([[-0.00634456, -0.02948495,  0.0199642 , -0.00155337]])"
      ]
     },
     "execution_count": 108,
     "metadata": {},
     "output_type": "execute_result"
    }
   ],
   "source": [
    "z2_wrt_a1_we = np.dot(a2_wrt_z2, w2.T)\n",
    "z2_wrt_a1_we"
   ]
  },
  {
   "cell_type": "code",
   "execution_count": 110,
   "id": "9cf2449e-06d1-4a21-8983-1554f6bf477c",
   "metadata": {},
   "outputs": [
    {
     "data": {
      "text/plain": [
       "array([[-0.        , -0.        ,  0.        , -0.00155337]])"
      ]
     },
     "execution_count": 110,
     "metadata": {},
     "output_type": "execute_result"
    }
   ],
   "source": [
    "a1_wrt_z1 = np.where(z1>0, 1, 0) * z2_wrt_a1_we\n",
    "a1_wrt_z1"
   ]
  },
  {
   "cell_type": "code",
   "execution_count": 112,
   "id": "01d44f87-fd9e-492c-b780-a2dcca073fb2",
   "metadata": {},
   "outputs": [
    {
     "data": {
      "text/plain": [
       "array([[ 0.        ,  0.        ,  0.        , -0.00155337],\n",
       "       [ 0.        ,  0.        ,  0.        , -0.00310673]])"
      ]
     },
     "execution_count": 112,
     "metadata": {},
     "output_type": "execute_result"
    }
   ],
   "source": [
    "z1_wrt_w1 = np.dot(x.T, a1_wrt_z1)\n",
    "z1_wrt_w1"
   ]
  },
  {
   "cell_type": "code",
   "execution_count": null,
   "id": "3bf909d9-58d6-49e2-9d39-c387f21dcb01",
   "metadata": {},
   "outputs": [],
   "source": []
  }
 ],
 "metadata": {
  "kernelspec": {
   "display_name": "Python 3",
   "language": "python",
   "name": "python3"
  },
  "language_info": {
   "codemirror_mode": {
    "name": "ipython",
    "version": 3
   },
   "file_extension": ".py",
   "mimetype": "text/x-python",
   "name": "python",
   "nbconvert_exporter": "python",
   "pygments_lexer": "ipython3",
   "version": "3.12.9"
  }
 },
 "nbformat": 4,
 "nbformat_minor": 5
}
