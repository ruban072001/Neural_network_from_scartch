{
 "cells": [
  {
   "cell_type": "code",
   "execution_count": 6,
   "id": "2d08a124",
   "metadata": {},
   "outputs": [],
   "source": [
    "import pandas as pd\n",
    "import numpy as np"
   ]
  },
  {
   "cell_type": "code",
   "execution_count": 3,
   "id": "866cfe5c",
   "metadata": {},
   "outputs": [
    {
     "data": {
      "text/html": [
       "<div>\n",
       "<style scoped>\n",
       "    .dataframe tbody tr th:only-of-type {\n",
       "        vertical-align: middle;\n",
       "    }\n",
       "\n",
       "    .dataframe tbody tr th {\n",
       "        vertical-align: top;\n",
       "    }\n",
       "\n",
       "    .dataframe thead th {\n",
       "        text-align: right;\n",
       "    }\n",
       "</style>\n",
       "<table border=\"1\" class=\"dataframe\">\n",
       "  <thead>\n",
       "    <tr style=\"text-align: right;\">\n",
       "      <th></th>\n",
       "      <th>Unnamed: 0</th>\n",
       "      <th>tmax</th>\n",
       "      <th>tmin</th>\n",
       "      <th>rain</th>\n",
       "      <th>tmax_tomorrow</th>\n",
       "    </tr>\n",
       "  </thead>\n",
       "  <tbody>\n",
       "    <tr>\n",
       "      <th>0</th>\n",
       "      <td>1970-01-01</td>\n",
       "      <td>60.0</td>\n",
       "      <td>35.0</td>\n",
       "      <td>0.0</td>\n",
       "      <td>52.0</td>\n",
       "    </tr>\n",
       "    <tr>\n",
       "      <th>1</th>\n",
       "      <td>1970-01-02</td>\n",
       "      <td>52.0</td>\n",
       "      <td>39.0</td>\n",
       "      <td>0.0</td>\n",
       "      <td>52.0</td>\n",
       "    </tr>\n",
       "    <tr>\n",
       "      <th>2</th>\n",
       "      <td>1970-01-03</td>\n",
       "      <td>52.0</td>\n",
       "      <td>35.0</td>\n",
       "      <td>0.0</td>\n",
       "      <td>53.0</td>\n",
       "    </tr>\n",
       "    <tr>\n",
       "      <th>3</th>\n",
       "      <td>1970-01-04</td>\n",
       "      <td>53.0</td>\n",
       "      <td>36.0</td>\n",
       "      <td>0.0</td>\n",
       "      <td>52.0</td>\n",
       "    </tr>\n",
       "    <tr>\n",
       "      <th>4</th>\n",
       "      <td>1970-01-05</td>\n",
       "      <td>52.0</td>\n",
       "      <td>35.0</td>\n",
       "      <td>0.0</td>\n",
       "      <td>50.0</td>\n",
       "    </tr>\n",
       "    <tr>\n",
       "      <th>...</th>\n",
       "      <td>...</td>\n",
       "      <td>...</td>\n",
       "      <td>...</td>\n",
       "      <td>...</td>\n",
       "      <td>...</td>\n",
       "    </tr>\n",
       "    <tr>\n",
       "      <th>13504</th>\n",
       "      <td>2022-11-22</td>\n",
       "      <td>62.0</td>\n",
       "      <td>35.0</td>\n",
       "      <td>0.0</td>\n",
       "      <td>67.0</td>\n",
       "    </tr>\n",
       "    <tr>\n",
       "      <th>13505</th>\n",
       "      <td>2022-11-23</td>\n",
       "      <td>67.0</td>\n",
       "      <td>38.0</td>\n",
       "      <td>0.0</td>\n",
       "      <td>66.0</td>\n",
       "    </tr>\n",
       "    <tr>\n",
       "      <th>13506</th>\n",
       "      <td>2022-11-24</td>\n",
       "      <td>66.0</td>\n",
       "      <td>41.0</td>\n",
       "      <td>0.0</td>\n",
       "      <td>70.0</td>\n",
       "    </tr>\n",
       "    <tr>\n",
       "      <th>13507</th>\n",
       "      <td>2022-11-25</td>\n",
       "      <td>70.0</td>\n",
       "      <td>39.0</td>\n",
       "      <td>0.0</td>\n",
       "      <td>62.0</td>\n",
       "    </tr>\n",
       "    <tr>\n",
       "      <th>13508</th>\n",
       "      <td>2022-11-26</td>\n",
       "      <td>62.0</td>\n",
       "      <td>41.0</td>\n",
       "      <td>0.0</td>\n",
       "      <td>64.0</td>\n",
       "    </tr>\n",
       "  </tbody>\n",
       "</table>\n",
       "<p>13509 rows × 5 columns</p>\n",
       "</div>"
      ],
      "text/plain": [
       "       Unnamed: 0  tmax  tmin  rain  tmax_tomorrow\n",
       "0      1970-01-01  60.0  35.0   0.0           52.0\n",
       "1      1970-01-02  52.0  39.0   0.0           52.0\n",
       "2      1970-01-03  52.0  35.0   0.0           53.0\n",
       "3      1970-01-04  53.0  36.0   0.0           52.0\n",
       "4      1970-01-05  52.0  35.0   0.0           50.0\n",
       "...           ...   ...   ...   ...            ...\n",
       "13504  2022-11-22  62.0  35.0   0.0           67.0\n",
       "13505  2022-11-23  67.0  38.0   0.0           66.0\n",
       "13506  2022-11-24  66.0  41.0   0.0           70.0\n",
       "13507  2022-11-25  70.0  39.0   0.0           62.0\n",
       "13508  2022-11-26  62.0  41.0   0.0           64.0\n",
       "\n",
       "[13509 rows x 5 columns]"
      ]
     },
     "execution_count": 3,
     "metadata": {},
     "output_type": "execute_result"
    }
   ],
   "source": [
    "df = pd.read_csv(r\"C:\\Users\\Ruban\\Downloads\\clean_weather.csv\")\n",
    "df"
   ]
  },
  {
   "cell_type": "code",
   "execution_count": 4,
   "id": "22993ab0",
   "metadata": {},
   "outputs": [
    {
     "data": {
      "text/plain": [
       "0        60.0\n",
       "1        52.0\n",
       "2        52.0\n",
       "3        53.0\n",
       "4        52.0\n",
       "         ... \n",
       "13504    62.0\n",
       "13505    67.0\n",
       "13506    66.0\n",
       "13507    70.0\n",
       "13508    62.0\n",
       "Name: tmax, Length: 13509, dtype: float64"
      ]
     },
     "execution_count": 4,
     "metadata": {},
     "output_type": "execute_result"
    }
   ],
   "source": [
    "df[\"tmax\"]"
   ]
  },
  {
   "cell_type": "code",
   "execution_count": 8,
   "id": "f27f51ff",
   "metadata": {},
   "outputs": [
    {
     "data": {
      "text/plain": [
       "array([[60., 52., 52., ..., 66., 70., 62.]])"
      ]
     },
     "execution_count": 8,
     "metadata": {},
     "output_type": "execute_result"
    }
   ],
   "source": [
    "df[\"tmax\"].to_numpy()[np.newaxis,:]"
   ]
  },
  {
   "cell_type": "code",
   "execution_count": 19,
   "id": "b08e2df7",
   "metadata": {},
   "outputs": [
    {
     "data": {
      "text/plain": [
       "array([60., 52., 52.])"
      ]
     },
     "execution_count": 19,
     "metadata": {},
     "output_type": "execute_result"
    }
   ],
   "source": [
    "np.random.seed(42)\n",
    "\n",
    "i_weight = np.random.rand(1, 2)\n",
    "h_weight = np.random.rand(2, 2)\n",
    "o_weight = np.random.rand(2, 1)\n",
    "\n",
    "temps = df[\"tmax\"].head(3).to_numpy()\n",
    "temps"
   ]
  },
  {
   "cell_type": "code",
   "execution_count": 20,
   "id": "ad64bd6e",
   "metadata": {},
   "outputs": [
    {
     "data": {
      "text/plain": [
       "(array([[60.]]), array([[52.]]), array([[52.]]))"
      ]
     },
     "execution_count": 20,
     "metadata": {},
     "output_type": "execute_result"
    }
   ],
   "source": [
    "x0 = temps[0].reshape(1, 1)\n",
    "x1 = temps[1].reshape(1, 1)\n",
    "x2 = temps[2].reshape(1, 1)\n",
    "x0, x1, x2"
   ]
  },
  {
   "cell_type": "code",
   "execution_count": 22,
   "id": "7a90d348",
   "metadata": {},
   "outputs": [
    {
     "data": {
      "text/plain": [
       "array([[22.47240713, 57.04285838]])"
      ]
     },
     "execution_count": 22,
     "metadata": {},
     "output_type": "execute_result"
    }
   ],
   "source": [
    "xi_0 = x0 @ i_weight\n",
    "xi_0"
   ]
  },
  {
   "cell_type": "code",
   "execution_count": 24,
   "id": "457d7c2f",
   "metadata": {},
   "outputs": [
    {
     "data": {
      "text/plain": [
       "array([[22.47240713, 57.04285838]])"
      ]
     },
     "execution_count": 24,
     "metadata": {},
     "output_type": "execute_result"
    }
   ],
   "source": [
    "xh_0 = np.maximum(0, xi_0)\n",
    "xh_0"
   ]
  },
  {
   "cell_type": "code",
   "execution_count": 25,
   "id": "4fca75b4",
   "metadata": {},
   "outputs": [
    {
     "data": {
      "text/plain": [
       "array([[50.7144418]])"
      ]
     },
     "execution_count": 25,
     "metadata": {},
     "output_type": "execute_result"
    }
   ],
   "source": [
    "xo_0 = xh_0 @ o_weight\n",
    "xo_0"
   ]
  },
  {
   "cell_type": "code",
   "execution_count": 26,
   "id": "953f8b9e",
   "metadata": {},
   "outputs": [
    {
     "data": {
      "text/plain": [
       "array([[19.47608618, 49.43714393]])"
      ]
     },
     "execution_count": 26,
     "metadata": {},
     "output_type": "execute_result"
    }
   ],
   "source": [
    "xi_1 = x1 @ i_weight\n",
    "xi_1"
   ]
  },
  {
   "cell_type": "code",
   "execution_count": 27,
   "id": "fa107e42",
   "metadata": {},
   "outputs": [
    {
     "data": {
      "text/plain": [
       "array([[25.34941509, 22.35167052]])"
      ]
     },
     "execution_count": 27,
     "metadata": {},
     "output_type": "execute_result"
    }
   ],
   "source": [
    "xh = xh_0 @ h_weight\n",
    "xh"
   ]
  },
  {
   "cell_type": "code",
   "execution_count": 28,
   "id": "35c99279",
   "metadata": {},
   "outputs": [
    {
     "data": {
      "text/plain": [
       "array([[44.82550127, 71.78881445]])"
      ]
     },
     "execution_count": 28,
     "metadata": {},
     "output_type": "execute_result"
    }
   ],
   "source": [
    "xh_1 = np.maximum(0, xh + xi_1)\n",
    "xh_1"
   ]
  },
  {
   "cell_type": "code",
   "execution_count": 29,
   "id": "aa916a60",
   "metadata": {},
   "outputs": [
    {
     "data": {
      "text/plain": [
       "array([[64.78538565]])"
      ]
     },
     "execution_count": 29,
     "metadata": {},
     "output_type": "execute_result"
    }
   ],
   "source": [
    "xo_1 = xh_1 @ o_weight\n",
    "xo_1"
   ]
  },
  {
   "cell_type": "code",
   "execution_count": 30,
   "id": "50f2e6f8",
   "metadata": {},
   "outputs": [
    {
     "data": {
      "text/plain": [
       "array([[19.47608618, 49.43714393]])"
      ]
     },
     "execution_count": 30,
     "metadata": {},
     "output_type": "execute_result"
    }
   ],
   "source": [
    "xi_2 = x2 @ i_weight\n",
    "xi_2"
   ]
  },
  {
   "cell_type": "code",
   "execution_count": 31,
   "id": "8b4ced3b",
   "metadata": {},
   "outputs": [
    {
     "data": {
      "text/plain": [
       "array([[44.0123886 , 38.03382832]])"
      ]
     },
     "execution_count": 31,
     "metadata": {},
     "output_type": "execute_result"
    }
   ],
   "source": [
    "xh = xh_1 @ h_weight\n",
    "xh"
   ]
  },
  {
   "cell_type": "code",
   "execution_count": 32,
   "id": "1ab6bf2b",
   "metadata": {},
   "outputs": [
    {
     "data": {
      "text/plain": [
       "array([[63.48847478, 87.47097225]])"
      ]
     },
     "execution_count": 32,
     "metadata": {},
     "output_type": "execute_result"
    }
   ],
   "source": [
    "xh_2 = np.maximum(0, xh + xi_2)\n",
    "xh_2"
   ]
  },
  {
   "cell_type": "code",
   "execution_count": 33,
   "id": "71751768",
   "metadata": {},
   "outputs": [
    {
     "data": {
      "text/plain": [
       "array([[79.45290956]])"
      ]
     },
     "execution_count": 33,
     "metadata": {},
     "output_type": "execute_result"
    }
   ],
   "source": [
    "xo_2 = xh_2 @ o_weight\n",
    "xo_2"
   ]
  },
  {
   "cell_type": "code",
   "execution_count": 47,
   "id": "c29238d3",
   "metadata": {},
   "outputs": [],
   "source": [
    "np.random.seed(0)\n",
    "i_weight = np.random.rand(1, 5)\n",
    "h_weight = np.random.rand(5, 5)\n",
    "h_bias = np.random.rand(1, 5)\n",
    "\n",
    "o_weight = np.random.rand(5, 1) * 50\n",
    "o_bias = np.random.rand(1, 1)"
   ]
  },
  {
   "cell_type": "code",
   "execution_count": 48,
   "id": "f41753eb",
   "metadata": {},
   "outputs": [
    {
     "data": {
      "text/plain": [
       "(array([[30.88177485],\n",
       "        [30.60478614],\n",
       "        [30.84669984],\n",
       "        [47.18740393],\n",
       "        [34.09101496]]),\n",
       " array([[0.3595079]]))"
      ]
     },
     "execution_count": 48,
     "metadata": {},
     "output_type": "execute_result"
    }
   ],
   "source": [
    "o_weight, o_bias"
   ]
  },
  {
   "cell_type": "code",
   "execution_count": 49,
   "id": "e362f587",
   "metadata": {},
   "outputs": [
    {
     "name": "stderr",
     "output_type": "stream",
     "text": [
      "C:\\Users\\Ruban\\AppData\\Local\\Temp\\ipykernel_14432\\2588747601.py:19: DeprecationWarning: Conversion of an array with ndim > 0 to a scalar is deprecated, and will error in future. Ensure you extract a single element from your array before performing this operation. (Deprecated NumPy 1.25.)\n",
      "  outputs[i] = xh @ o_weight + o_bias\n"
     ]
    }
   ],
   "source": [
    "outputs = np.zeros(3)\n",
    "hiddens = np.zeros((3, 5))\n",
    "prev_hidden = None\n",
    "sequence = df['tmax'].head(3).to_numpy()\n",
    "\n",
    "for i in range(3):\n",
    "    \n",
    "    x = sequence[i].reshape(1, 1)\n",
    "    \n",
    "    xi = x @ i_weight\n",
    "    if prev_hidden is None:\n",
    "        xh = xi\n",
    "    else:\n",
    "        xh = prev_hidden @ h_weight + xi + h_bias\n",
    "    \n",
    "    xh = np.tanh(xh)\n",
    "    prev_hidden = xh\n",
    "    hiddens[i, ] = xh\n",
    "    outputs[i] = xh @ o_weight + o_bias"
   ]
  },
  {
   "cell_type": "code",
   "execution_count": 50,
   "id": "c211782e",
   "metadata": {},
   "outputs": [
    {
     "data": {
      "text/plain": [
       "array([173.97118762, 173.97118762, 173.97118762])"
      ]
     },
     "execution_count": 50,
     "metadata": {},
     "output_type": "execute_result"
    }
   ],
   "source": [
    "outputs"
   ]
  },
  {
   "cell_type": "code",
   "execution_count": 1,
   "id": "79792459",
   "metadata": {},
   "outputs": [],
   "source": [
    "import numpy as np\n",
    "i_weight = np.random.randn(2, 8)   # input feature size x hidden state  size\n",
    "xi = np.array([ \n",
    "    np.array([2, 2]),\n",
    "    np.array([3, 3]),\n",
    "    np.array([4, 4]),\n",
    "    np.array([5, 5]),\n",
    "])                                 # sequence length x input size\n",
    "previous_hid = None\n",
    "hidd_wei = np.random.rand(8, 8)\n",
    "hidden_bi = np.zeros((1, 8))      # Based on state size\n",
    "\n",
    "o_weight = np.random.randn(8, 4)  # hidden_state x output_size \n",
    "o_bias = np.zeros((1, 4))         # Based on output size\n"
   ]
  },
  {
   "cell_type": "code",
   "execution_count": 2,
   "id": "c36927e0",
   "metadata": {},
   "outputs": [
    {
     "data": {
      "text/plain": [
       "array([[2, 2]])"
      ]
     },
     "execution_count": 2,
     "metadata": {},
     "output_type": "execute_result"
    }
   ],
   "source": [
    "xi[0].reshape(1, 2)"
   ]
  },
  {
   "cell_type": "code",
   "execution_count": 3,
   "id": "dd81c61e",
   "metadata": {},
   "outputs": [],
   "source": [
    "all_hidden = np.zeros((max(xi.shape), 8))         # sequence length x hidden state size\n",
    "output = np.zeros((4, 4))             # sequence length x output size\n",
    "y_true = np.array([[10, 11, 12, 13],\n",
    "                   [14, 15, 16, 17],\n",
    "                   [18, 19, 20, 21],\n",
    "                   [22, 23, 24, 25]])"
   ]
  },
  {
   "cell_type": "code",
   "execution_count": 4,
   "id": "ff369db4",
   "metadata": {},
   "outputs": [],
   "source": [
    "for i in range(max(xi.shape)):\n",
    "    in_x = xi[i].reshape(1, 2)\n",
    "    x_in = in_x @ i_weight\n",
    "    \n",
    "    if previous_hid is None:\n",
    "        xh = x_in\n",
    "    else:\n",
    "        xh = x_in + hidden_bi + previous_hid @ hidd_wei\n",
    "    xh = np.tanh(xh)\n",
    "    all_hidden[i, ] = xh\n",
    "    output[i,] = xh @ o_weight + o_bias"
   ]
  },
  {
   "cell_type": "code",
   "execution_count": 5,
   "id": "506d1e1f",
   "metadata": {},
   "outputs": [
    {
     "data": {
      "text/plain": [
       "array([[ 1.48820903,  1.31859414, -0.03889734,  1.46376029],\n",
       "       [ 1.52487403,  1.53724859, -0.41833846,  1.433718  ],\n",
       "       [ 1.59287705,  1.71426035, -0.62261063,  1.3634284 ],\n",
       "       [ 1.68841093,  1.85427038, -0.71953675,  1.29764741]])"
      ]
     },
     "execution_count": 5,
     "metadata": {},
     "output_type": "execute_result"
    }
   ],
   "source": [
    "output"
   ]
  },
  {
   "cell_type": "code",
   "execution_count": 6,
   "id": "cd69c97b",
   "metadata": {},
   "outputs": [
    {
     "data": {
      "text/plain": [
       "array([[-0.44066419, -0.99775651,  0.13582423,  0.11407005, -0.99676402,\n",
       "        -0.6936356 ,  0.98527205, -0.85455864],\n",
       "       [-0.61041473, -0.99992474,  0.20217888,  0.170181  , -0.99986953,\n",
       "        -0.85712122,  0.99872287, -0.95702001],\n",
       "       [-0.73801667, -0.99999748,  0.26672781,  0.22520967, -0.99999475,\n",
       "        -0.93663006,  0.99988993, -0.98777463],\n",
       "       [-0.82828127, -0.99999992,  0.32896936,  0.27883809, -0.99999979,\n",
       "        -0.97254804,  0.99999052, -0.99656125]])"
      ]
     },
     "execution_count": 6,
     "metadata": {},
     "output_type": "execute_result"
    }
   ],
   "source": [
    "all_hidden"
   ]
  },
  {
   "cell_type": "code",
   "execution_count": 10,
   "id": "53a9296f",
   "metadata": {},
   "outputs": [
    {
     "data": {
      "text/plain": [
       "294.0239085691826"
      ]
     },
     "execution_count": 10,
     "metadata": {},
     "output_type": "execute_result"
    }
   ],
   "source": [
    "np.mean((y_true - output) ** 2) "
   ]
  },
  {
   "cell_type": "code",
   "execution_count": 9,
   "id": "1485e626",
   "metadata": {},
   "outputs": [
    {
     "data": {
      "text/plain": [
       "array([[ -8.51179097,  -9.68140586, -12.03889734, -11.53623971],\n",
       "       [-12.47512597, -13.46275141, -16.41833846, -15.566282  ],\n",
       "       [-16.40712295, -17.28573965, -20.62261063, -19.6365716 ],\n",
       "       [-20.31158907, -21.14572962, -24.71953675, -23.70235259]])"
      ]
     },
     "execution_count": 9,
     "metadata": {},
     "output_type": "execute_result"
    }
   ],
   "source": [
    "d_loss = output - y_true\n",
    "d_loss"
   ]
  },
  {
   "cell_type": "code",
   "execution_count": 13,
   "id": "83db096b",
   "metadata": {},
   "outputs": [],
   "source": [
    "d_o_weight = np.zeros_like(o_weight)\n",
    "d_o_bias = np.zeros_like(o_bias)\n",
    "d_i_weight = np.zeros_like(i_weight)\n",
    "d_h_weight = np.zeros_like(hidd_wei)\n",
    "d_h_bias = np.zeros_like(hidden_bi)\n",
    "\n",
    "next_hiddent = np.zeros((1, 8))"
   ]
  },
  {
   "cell_type": "code",
   "execution_count": null,
   "id": "70d65be1",
   "metadata": {},
   "outputs": [
    {
     "name": "stdout",
     "output_type": "stream",
     "text": [
      "[[-0.82828127 -0.99999992  0.32896936  0.27883809 -0.99999979 -0.97254804\n",
      "   0.99999052 -0.99656125]] [[-20.31158907 -21.14572962 -24.71953675 -23.70235259]]\n",
      "[[-0.73801667 -0.99999748  0.26672781  0.22520967 -0.99999475 -0.93663006\n",
      "   0.99988993 -0.98777463]] [[-16.40712295 -17.28573965 -20.62261063 -19.6365716 ]]\n",
      "[[-0.61041473 -0.99992474  0.20217888  0.170181   -0.99986953 -0.85712122\n",
      "   0.99872287 -0.95702001]] [[-12.47512597 -13.46275141 -16.41833846 -15.566282  ]]\n",
      "[[-0.44066419 -0.99775651  0.13582423  0.11407005 -0.99676402 -0.6936356\n",
      "   0.98527205 -0.85455864]] [[ -8.51179097  -9.68140586 -12.03889734 -11.53623971]]\n"
     ]
    }
   ],
   "source": [
    "for i in reversed(range(4)):\n",
    "    xh = all_hidden[i].reshape(1, 8)\n",
    "    d_out = d_loss[i].reshape(1, 4)\n",
    "    \n",
    "    d_o_weight += xh.T @ d_out\n",
    "    d_o_bias += d_out\n",
    "    \n",
    "    "
   ]
  },
  {
   "cell_type": "code",
   "execution_count": 8,
   "id": "71cecc73",
   "metadata": {},
   "outputs": [],
   "source": [
    "import numpy as np\n",
    "\n",
    "# Input sequence (2 time steps)\n",
    "x = [np.array([[1, 2]]), np.array([[0, 1]])]  # (1x2) each\n",
    "\n",
    "# True target outputs (we’ll use MSE loss)\n",
    "target = [np.array([[0.5]]), np.array([[0.8]])]  # (1x1) each\n",
    "\n",
    "# Weights\n",
    "W_ih = np.array([[0.1, 0.2],  # input → hidden\n",
    "                 [0.3, 0.4]])\n",
    "W_hh = np.array([[0.5, 0.6],  # hidden → hidden\n",
    "                 [0.7, 0.8]])\n",
    "b_h = np.array([[0.0, 0.0]])  # hidden bias\n",
    "\n",
    "W_ho = np.array([[1.0],       # hidden → output\n",
    "                 [2.0]])\n",
    "b_o = np.array([[0.0]])       # output bias\n",
    "h_t_1 = np.array([[0, 0]])\n"
   ]
  },
  {
   "cell_type": "code",
   "execution_count": 9,
   "id": "88444ba3",
   "metadata": {},
   "outputs": [
    {
     "data": {
      "text/plain": [
       "array([[0.7, 1. ]])"
      ]
     },
     "execution_count": 9,
     "metadata": {},
     "output_type": "execute_result"
    }
   ],
   "source": [
    "z_0 = x[0] @ W_ih + h_t_1 @ W_ih + b_h\n",
    "z_0"
   ]
  },
  {
   "cell_type": "code",
   "execution_count": 11,
   "id": "271daafc",
   "metadata": {},
   "outputs": [
    {
     "data": {
      "text/plain": [
       "array([[0.60436778, 0.76159416]])"
      ]
     },
     "execution_count": 11,
     "metadata": {},
     "output_type": "execute_result"
    }
   ],
   "source": [
    "a_0 = np.tanh(z_0)\n",
    "a_0"
   ]
  },
  {
   "cell_type": "code",
   "execution_count": 12,
   "id": "013020e2",
   "metadata": {},
   "outputs": [
    {
     "data": {
      "text/plain": [
       "array([[2.12755609]])"
      ]
     },
     "execution_count": 12,
     "metadata": {},
     "output_type": "execute_result"
    }
   ],
   "source": [
    "y_0 = a_0 @ W_ho + b_o\n",
    "y_0"
   ]
  },
  {
   "cell_type": "code",
   "execution_count": 13,
   "id": "2509b92b",
   "metadata": {},
   "outputs": [
    {
     "data": {
      "text/plain": [
       "array([[1.32446941]])"
      ]
     },
     "execution_count": 13,
     "metadata": {},
     "output_type": "execute_result"
    }
   ],
   "source": [
    "loss = 1 / 2 * ((y_0 - target[0]) ** 2)\n",
    "loss"
   ]
  },
  {
   "cell_type": "code",
   "execution_count": 14,
   "id": "c91b8d00",
   "metadata": {},
   "outputs": [
    {
     "data": {
      "text/plain": [
       "array([[1.1352998 , 1.37189599]])"
      ]
     },
     "execution_count": 14,
     "metadata": {},
     "output_type": "execute_result"
    }
   ],
   "source": [
    "z_1 = x[1] @ W_ih + a_0 @ W_hh + b_h\n",
    "z_1"
   ]
  },
  {
   "cell_type": "code",
   "execution_count": 15,
   "id": "55bed644",
   "metadata": {},
   "outputs": [
    {
     "data": {
      "text/plain": [
       "array([[0.81282533, 0.87912357]])"
      ]
     },
     "execution_count": 15,
     "metadata": {},
     "output_type": "execute_result"
    }
   ],
   "source": [
    "a_1 = np.tanh(z_1)\n",
    "a_1"
   ]
  },
  {
   "cell_type": "code",
   "execution_count": 16,
   "id": "84bc5684",
   "metadata": {},
   "outputs": [
    {
     "data": {
      "text/plain": [
       "array([[2.57107247]])"
      ]
     },
     "execution_count": 16,
     "metadata": {},
     "output_type": "execute_result"
    }
   ],
   "source": [
    "y_1 = a_1 @ W_ho + b_o\n",
    "y_1"
   ]
  },
  {
   "cell_type": "code",
   "execution_count": 17,
   "id": "3a8f52aa",
   "metadata": {},
   "outputs": [
    {
     "data": {
      "text/plain": [
       "array([[1.56834884]])"
      ]
     },
     "execution_count": 17,
     "metadata": {},
     "output_type": "execute_result"
    }
   ],
   "source": [
    "loss1 = 1 / 2 * ((y_1 - target[1]) ** 2)\n",
    "loss1"
   ]
  },
  {
   "cell_type": "code",
   "execution_count": 19,
   "id": "0edf22cf",
   "metadata": {},
   "outputs": [
    {
     "data": {
      "text/plain": [
       "array([[1.77107247]])"
      ]
     },
     "execution_count": 19,
     "metadata": {},
     "output_type": "execute_result"
    }
   ],
   "source": [
    "d_loss = y_1 - target[1]  # loss w.r.t y_1\n",
    "d_loss"
   ]
  },
  {
   "cell_type": "code",
   "execution_count": 21,
   "id": "9eae60db",
   "metadata": {},
   "outputs": [
    {
     "data": {
      "text/plain": [
       "array([[1.77107247, 3.54214493]])"
      ]
     },
     "execution_count": 21,
     "metadata": {},
     "output_type": "execute_result"
    }
   ],
   "source": [
    "# loss of y_1 w.r.t a_1\n",
    "# y_1 = a_1 . w_ho + b_o\n",
    "# y_ = w_ho\n",
    "d_loss_y_1 = d_loss @ W_ho.T\n",
    "d_loss_y_1"
   ]
  },
  {
   "cell_type": "code",
   "execution_count": 24,
   "id": "6be46b3f",
   "metadata": {},
   "outputs": [
    {
     "data": {
      "text/plain": [
       "array([[1.43957256],\n",
       "       [1.55699155]])"
      ]
     },
     "execution_count": 24,
     "metadata": {},
     "output_type": "execute_result"
    }
   ],
   "source": [
    "# loss y_1 w.r.t w_ho\n",
    "# y_1 = a_1 . w_ho + b_o\n",
    "\n",
    "\n",
    "d_loss_w_ho = a_1.T @ d_loss\n",
    "d_loss_w_ho"
   ]
  },
  {
   "cell_type": "code",
   "execution_count": 25,
   "id": "1516f3c2",
   "metadata": {},
   "outputs": [
    {
     "data": {
      "text/plain": [
       "array([[1.77107247]])"
      ]
     },
     "execution_count": 25,
     "metadata": {},
     "output_type": "execute_result"
    }
   ],
   "source": [
    "d_loss_b_o = d_loss\n",
    "d_loss_b_o"
   ]
  },
  {
   "cell_type": "code",
   "execution_count": 29,
   "id": "78e871f9",
   "metadata": {},
   "outputs": [
    {
     "data": {
      "text/plain": [
       "array([[0.60095143, 0.80456899]])"
      ]
     },
     "execution_count": 29,
     "metadata": {},
     "output_type": "execute_result"
    }
   ],
   "source": [
    "# loss of a_1 w.r.t z1\n",
    "# a_1 = tanh(z1)\n",
    "# d_a_1 = 1 - tanh(z1) ** 2\n",
    "# d_a_1 = 1 - a_1 ** 2\n",
    "\n",
    "d_loss_a1 = d_loss_y_1 * (1 - (a_1) ** 2)\n",
    "d_loss_a1"
   ]
  },
  {
   "cell_type": "code",
   "execution_count": 52,
   "id": "3c1079ac",
   "metadata": {},
   "outputs": [
    {
     "name": "stdout",
     "output_type": "stream",
     "text": [
      "[[1.32446941]\n",
      " [1.56834884]]\n"
     ]
    }
   ],
   "source": [
    "import numpy as np\n",
    "\n",
    "# Input sequence (2 time steps)\n",
    "x = [np.array([[1, 2]]), np.array([[0, 1]])]  # (1x2) each\n",
    "\n",
    "# True target outputs (we’ll use MSE loss)\n",
    "target = [np.array([[0.5]]), np.array([[0.8]])]  # (1x1) each\n",
    "\n",
    "# Weights\n",
    "W_ih = np.array([[0.1, 0.2],  # input → hidden\n",
    "                 [0.3, 0.4]])\n",
    "W_hh = np.array([[0.5, 0.6],  # hidden → hidden\n",
    "                 [0.7, 0.8]])\n",
    "b_h = np.array([[0.0, 0.0]])  # hidden bias\n",
    "\n",
    "W_ho = np.array([[1.0],       # hidden → output\n",
    "                 [2.0]])\n",
    "b_o = np.array([[0.0]])       # output bias\n",
    "h_t_1 = np.array([[0, 0]])\n",
    "\n",
    "all_hidden = np.zeros((2, 2))\n",
    "output = np.zeros((2, 1))\n",
    "sequence = 2\n",
    "for i in range(sequence):\n",
    "    z1 = x[i] @ W_ih + h_t_1 @ W_hh + b_h\n",
    "    h = np.tanh(z1)\n",
    "    all_hidden[i, ] = h\n",
    "    y = h @ W_ho + b_o\n",
    "    output[i, ] = y\n",
    "    h_t_1 = h\n",
    "    \n",
    "    \n",
    "next_hidden = np.zeros_like(h_t_1)\n",
    "d_W_ih = np.zeros_like(W_ih)\n",
    "d_W_hh = np.zeros_like(W_hh)\n",
    "d_b_h = np.zeros_like(b_h)\n",
    "d_W_ho = np.zeros_like(W_ho)\n",
    "d_b_o = np.zeros_like(b_o)\n",
    "\n",
    "loss = 1/2 * ((output.reshape(-1, 1) - np.array(target).reshape(-1, 1)) ** 2)\n",
    "print(loss)\n",
    "d_loss = (output.reshape(-1, 1) - np.array(target).reshape(-1, 1))\n",
    "for i in range(sequence - 1, -1, -1):\n",
    "    y_loss = d_loss[i].reshape(1, 1)\n",
    "    h_l = all_hidden[i].reshape(1, -1)\n",
    "    d_W_ho += h_l.T @ y_loss\n",
    "    d_b_o += y_loss\n",
    "    \n",
    "    xh = 1 - (all_hidden[i] ** 2)\n",
    "    hidden_loss = (y_loss @ W_ho.T)\n",
    "    update_hidden_loss = hidden_loss * xh\n",
    "    \n",
    "    d_W_ih += x[i].T @ update_hidden_loss\n",
    "    d_W_hh += next_hidden.T @ update_hidden_loss\n",
    "    d_b_h += update_hidden_loss\n",
    "    \n",
    "    next_hidden = update_hidden_loss @ W_hh.T\n",
    "    "
   ]
  },
  {
   "cell_type": "code",
   "execution_count": null,
   "id": "f2ac0a64",
   "metadata": {},
   "outputs": [],
   "source": [
    "# loss w.r.t output\n",
    "# loss of output w.r.t w_ho\n",
    "# loss of output w.r.t w_bo\n",
    "# loss of output w.r.t hidden state\n",
    "# loss of hidden state w.r.t z1\n",
    "z1 = x . d_W_ih + prev_hidden . d_W_hh + d_b_h"
   ]
  },
  {
   "cell_type": "code",
   "execution_count": 47,
   "id": "4b6f9aa9",
   "metadata": {},
   "outputs": [
    {
     "data": {
      "text/plain": [
       "array([[3.13669768]])"
      ]
     },
     "execution_count": 47,
     "metadata": {},
     "output_type": "execute_result"
    }
   ],
   "source": [
    "y_loss"
   ]
  },
  {
   "cell_type": "code",
   "execution_count": 45,
   "id": "d360d1f2",
   "metadata": {},
   "outputs": [
    {
     "data": {
      "text/plain": [
       "array([0.33931499, 0.22714175])"
      ]
     },
     "execution_count": 45,
     "metadata": {},
     "output_type": "execute_result"
    }
   ],
   "source": [
    "1 - (all_hidden[i] ** 2)"
   ]
  },
  {
   "cell_type": "code",
   "execution_count": null,
   "id": "302bbac7",
   "metadata": {},
   "outputs": [],
   "source": []
  }
 ],
 "metadata": {
  "kernelspec": {
   "display_name": "Python 3",
   "language": "python",
   "name": "python3"
  },
  "language_info": {
   "codemirror_mode": {
    "name": "ipython",
    "version": 3
   },
   "file_extension": ".py",
   "mimetype": "text/x-python",
   "name": "python",
   "nbconvert_exporter": "python",
   "pygments_lexer": "ipython3",
   "version": "3.12.9"
  }
 },
 "nbformat": 4,
 "nbformat_minor": 5
}
