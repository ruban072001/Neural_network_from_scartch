{
 "cells": [
  {
   "cell_type": "code",
   "execution_count": 6,
   "id": "2d08a124",
   "metadata": {},
   "outputs": [],
   "source": [
    "import pandas as pd\n",
    "import numpy as np"
   ]
  },
  {
   "cell_type": "code",
   "execution_count": 3,
   "id": "866cfe5c",
   "metadata": {},
   "outputs": [
    {
     "data": {
      "text/html": [
       "<div>\n",
       "<style scoped>\n",
       "    .dataframe tbody tr th:only-of-type {\n",
       "        vertical-align: middle;\n",
       "    }\n",
       "\n",
       "    .dataframe tbody tr th {\n",
       "        vertical-align: top;\n",
       "    }\n",
       "\n",
       "    .dataframe thead th {\n",
       "        text-align: right;\n",
       "    }\n",
       "</style>\n",
       "<table border=\"1\" class=\"dataframe\">\n",
       "  <thead>\n",
       "    <tr style=\"text-align: right;\">\n",
       "      <th></th>\n",
       "      <th>Unnamed: 0</th>\n",
       "      <th>tmax</th>\n",
       "      <th>tmin</th>\n",
       "      <th>rain</th>\n",
       "      <th>tmax_tomorrow</th>\n",
       "    </tr>\n",
       "  </thead>\n",
       "  <tbody>\n",
       "    <tr>\n",
       "      <th>0</th>\n",
       "      <td>1970-01-01</td>\n",
       "      <td>60.0</td>\n",
       "      <td>35.0</td>\n",
       "      <td>0.0</td>\n",
       "      <td>52.0</td>\n",
       "    </tr>\n",
       "    <tr>\n",
       "      <th>1</th>\n",
       "      <td>1970-01-02</td>\n",
       "      <td>52.0</td>\n",
       "      <td>39.0</td>\n",
       "      <td>0.0</td>\n",
       "      <td>52.0</td>\n",
       "    </tr>\n",
       "    <tr>\n",
       "      <th>2</th>\n",
       "      <td>1970-01-03</td>\n",
       "      <td>52.0</td>\n",
       "      <td>35.0</td>\n",
       "      <td>0.0</td>\n",
       "      <td>53.0</td>\n",
       "    </tr>\n",
       "    <tr>\n",
       "      <th>3</th>\n",
       "      <td>1970-01-04</td>\n",
       "      <td>53.0</td>\n",
       "      <td>36.0</td>\n",
       "      <td>0.0</td>\n",
       "      <td>52.0</td>\n",
       "    </tr>\n",
       "    <tr>\n",
       "      <th>4</th>\n",
       "      <td>1970-01-05</td>\n",
       "      <td>52.0</td>\n",
       "      <td>35.0</td>\n",
       "      <td>0.0</td>\n",
       "      <td>50.0</td>\n",
       "    </tr>\n",
       "    <tr>\n",
       "      <th>...</th>\n",
       "      <td>...</td>\n",
       "      <td>...</td>\n",
       "      <td>...</td>\n",
       "      <td>...</td>\n",
       "      <td>...</td>\n",
       "    </tr>\n",
       "    <tr>\n",
       "      <th>13504</th>\n",
       "      <td>2022-11-22</td>\n",
       "      <td>62.0</td>\n",
       "      <td>35.0</td>\n",
       "      <td>0.0</td>\n",
       "      <td>67.0</td>\n",
       "    </tr>\n",
       "    <tr>\n",
       "      <th>13505</th>\n",
       "      <td>2022-11-23</td>\n",
       "      <td>67.0</td>\n",
       "      <td>38.0</td>\n",
       "      <td>0.0</td>\n",
       "      <td>66.0</td>\n",
       "    </tr>\n",
       "    <tr>\n",
       "      <th>13506</th>\n",
       "      <td>2022-11-24</td>\n",
       "      <td>66.0</td>\n",
       "      <td>41.0</td>\n",
       "      <td>0.0</td>\n",
       "      <td>70.0</td>\n",
       "    </tr>\n",
       "    <tr>\n",
       "      <th>13507</th>\n",
       "      <td>2022-11-25</td>\n",
       "      <td>70.0</td>\n",
       "      <td>39.0</td>\n",
       "      <td>0.0</td>\n",
       "      <td>62.0</td>\n",
       "    </tr>\n",
       "    <tr>\n",
       "      <th>13508</th>\n",
       "      <td>2022-11-26</td>\n",
       "      <td>62.0</td>\n",
       "      <td>41.0</td>\n",
       "      <td>0.0</td>\n",
       "      <td>64.0</td>\n",
       "    </tr>\n",
       "  </tbody>\n",
       "</table>\n",
       "<p>13509 rows × 5 columns</p>\n",
       "</div>"
      ],
      "text/plain": [
       "       Unnamed: 0  tmax  tmin  rain  tmax_tomorrow\n",
       "0      1970-01-01  60.0  35.0   0.0           52.0\n",
       "1      1970-01-02  52.0  39.0   0.0           52.0\n",
       "2      1970-01-03  52.0  35.0   0.0           53.0\n",
       "3      1970-01-04  53.0  36.0   0.0           52.0\n",
       "4      1970-01-05  52.0  35.0   0.0           50.0\n",
       "...           ...   ...   ...   ...            ...\n",
       "13504  2022-11-22  62.0  35.0   0.0           67.0\n",
       "13505  2022-11-23  67.0  38.0   0.0           66.0\n",
       "13506  2022-11-24  66.0  41.0   0.0           70.0\n",
       "13507  2022-11-25  70.0  39.0   0.0           62.0\n",
       "13508  2022-11-26  62.0  41.0   0.0           64.0\n",
       "\n",
       "[13509 rows x 5 columns]"
      ]
     },
     "execution_count": 3,
     "metadata": {},
     "output_type": "execute_result"
    }
   ],
   "source": [
    "df = pd.read_csv(r\"C:\\Users\\Ruban\\Downloads\\clean_weather.csv\")\n",
    "df"
   ]
  },
  {
   "cell_type": "code",
   "execution_count": 4,
   "id": "22993ab0",
   "metadata": {},
   "outputs": [
    {
     "data": {
      "text/plain": [
       "0        60.0\n",
       "1        52.0\n",
       "2        52.0\n",
       "3        53.0\n",
       "4        52.0\n",
       "         ... \n",
       "13504    62.0\n",
       "13505    67.0\n",
       "13506    66.0\n",
       "13507    70.0\n",
       "13508    62.0\n",
       "Name: tmax, Length: 13509, dtype: float64"
      ]
     },
     "execution_count": 4,
     "metadata": {},
     "output_type": "execute_result"
    }
   ],
   "source": [
    "df[\"tmax\"]"
   ]
  },
  {
   "cell_type": "code",
   "execution_count": 8,
   "id": "f27f51ff",
   "metadata": {},
   "outputs": [
    {
     "data": {
      "text/plain": [
       "array([[60., 52., 52., ..., 66., 70., 62.]])"
      ]
     },
     "execution_count": 8,
     "metadata": {},
     "output_type": "execute_result"
    }
   ],
   "source": [
    "df[\"tmax\"].to_numpy()[np.newaxis,:]"
   ]
  },
  {
   "cell_type": "code",
   "execution_count": 19,
   "id": "b08e2df7",
   "metadata": {},
   "outputs": [
    {
     "data": {
      "text/plain": [
       "array([60., 52., 52.])"
      ]
     },
     "execution_count": 19,
     "metadata": {},
     "output_type": "execute_result"
    }
   ],
   "source": [
    "np.random.seed(42)\n",
    "\n",
    "i_weight = np.random.rand(1, 2)\n",
    "h_weight = np.random.rand(2, 2)\n",
    "o_weight = np.random.rand(2, 1)\n",
    "\n",
    "temps = df[\"tmax\"].head(3).to_numpy()\n",
    "temps"
   ]
  },
  {
   "cell_type": "code",
   "execution_count": 20,
   "id": "ad64bd6e",
   "metadata": {},
   "outputs": [
    {
     "data": {
      "text/plain": [
       "(array([[60.]]), array([[52.]]), array([[52.]]))"
      ]
     },
     "execution_count": 20,
     "metadata": {},
     "output_type": "execute_result"
    }
   ],
   "source": [
    "x0 = temps[0].reshape(1, 1)\n",
    "x1 = temps[1].reshape(1, 1)\n",
    "x2 = temps[2].reshape(1, 1)\n",
    "x0, x1, x2"
   ]
  },
  {
   "cell_type": "code",
   "execution_count": 22,
   "id": "7a90d348",
   "metadata": {},
   "outputs": [
    {
     "data": {
      "text/plain": [
       "array([[22.47240713, 57.04285838]])"
      ]
     },
     "execution_count": 22,
     "metadata": {},
     "output_type": "execute_result"
    }
   ],
   "source": [
    "xi_0 = x0 @ i_weight\n",
    "xi_0"
   ]
  },
  {
   "cell_type": "code",
   "execution_count": 24,
   "id": "457d7c2f",
   "metadata": {},
   "outputs": [
    {
     "data": {
      "text/plain": [
       "array([[22.47240713, 57.04285838]])"
      ]
     },
     "execution_count": 24,
     "metadata": {},
     "output_type": "execute_result"
    }
   ],
   "source": [
    "xh_0 = np.maximum(0, xi_0)\n",
    "xh_0"
   ]
  },
  {
   "cell_type": "code",
   "execution_count": 25,
   "id": "4fca75b4",
   "metadata": {},
   "outputs": [
    {
     "data": {
      "text/plain": [
       "array([[50.7144418]])"
      ]
     },
     "execution_count": 25,
     "metadata": {},
     "output_type": "execute_result"
    }
   ],
   "source": [
    "xo_0 = xh_0 @ o_weight\n",
    "xo_0"
   ]
  },
  {
   "cell_type": "code",
   "execution_count": 26,
   "id": "953f8b9e",
   "metadata": {},
   "outputs": [
    {
     "data": {
      "text/plain": [
       "array([[19.47608618, 49.43714393]])"
      ]
     },
     "execution_count": 26,
     "metadata": {},
     "output_type": "execute_result"
    }
   ],
   "source": [
    "xi_1 = x1 @ i_weight\n",
    "xi_1"
   ]
  },
  {
   "cell_type": "code",
   "execution_count": 27,
   "id": "fa107e42",
   "metadata": {},
   "outputs": [
    {
     "data": {
      "text/plain": [
       "array([[25.34941509, 22.35167052]])"
      ]
     },
     "execution_count": 27,
     "metadata": {},
     "output_type": "execute_result"
    }
   ],
   "source": [
    "xh = xh_0 @ h_weight\n",
    "xh"
   ]
  },
  {
   "cell_type": "code",
   "execution_count": 28,
   "id": "35c99279",
   "metadata": {},
   "outputs": [
    {
     "data": {
      "text/plain": [
       "array([[44.82550127, 71.78881445]])"
      ]
     },
     "execution_count": 28,
     "metadata": {},
     "output_type": "execute_result"
    }
   ],
   "source": [
    "xh_1 = np.maximum(0, xh + xi_1)\n",
    "xh_1"
   ]
  },
  {
   "cell_type": "code",
   "execution_count": 29,
   "id": "aa916a60",
   "metadata": {},
   "outputs": [
    {
     "data": {
      "text/plain": [
       "array([[64.78538565]])"
      ]
     },
     "execution_count": 29,
     "metadata": {},
     "output_type": "execute_result"
    }
   ],
   "source": [
    "xo_1 = xh_1 @ o_weight\n",
    "xo_1"
   ]
  },
  {
   "cell_type": "code",
   "execution_count": 30,
   "id": "50f2e6f8",
   "metadata": {},
   "outputs": [
    {
     "data": {
      "text/plain": [
       "array([[19.47608618, 49.43714393]])"
      ]
     },
     "execution_count": 30,
     "metadata": {},
     "output_type": "execute_result"
    }
   ],
   "source": [
    "xi_2 = x2 @ i_weight\n",
    "xi_2"
   ]
  },
  {
   "cell_type": "code",
   "execution_count": 31,
   "id": "8b4ced3b",
   "metadata": {},
   "outputs": [
    {
     "data": {
      "text/plain": [
       "array([[44.0123886 , 38.03382832]])"
      ]
     },
     "execution_count": 31,
     "metadata": {},
     "output_type": "execute_result"
    }
   ],
   "source": [
    "xh = xh_1 @ h_weight\n",
    "xh"
   ]
  },
  {
   "cell_type": "code",
   "execution_count": 32,
   "id": "1ab6bf2b",
   "metadata": {},
   "outputs": [
    {
     "data": {
      "text/plain": [
       "array([[63.48847478, 87.47097225]])"
      ]
     },
     "execution_count": 32,
     "metadata": {},
     "output_type": "execute_result"
    }
   ],
   "source": [
    "xh_2 = np.maximum(0, xh + xi_2)\n",
    "xh_2"
   ]
  },
  {
   "cell_type": "code",
   "execution_count": 33,
   "id": "71751768",
   "metadata": {},
   "outputs": [
    {
     "data": {
      "text/plain": [
       "array([[79.45290956]])"
      ]
     },
     "execution_count": 33,
     "metadata": {},
     "output_type": "execute_result"
    }
   ],
   "source": [
    "xo_2 = xh_2 @ o_weight\n",
    "xo_2"
   ]
  },
  {
   "cell_type": "code",
   "execution_count": 47,
   "id": "c29238d3",
   "metadata": {},
   "outputs": [],
   "source": [
    "np.random.seed(0)\n",
    "i_weight = np.random.rand(1, 5)\n",
    "h_weight = np.random.rand(5, 5)\n",
    "h_bias = np.random.rand(1, 5)\n",
    "\n",
    "o_weight = np.random.rand(5, 1) * 50\n",
    "o_bias = np.random.rand(1, 1)"
   ]
  },
  {
   "cell_type": "code",
   "execution_count": 48,
   "id": "f41753eb",
   "metadata": {},
   "outputs": [
    {
     "data": {
      "text/plain": [
       "(array([[30.88177485],\n",
       "        [30.60478614],\n",
       "        [30.84669984],\n",
       "        [47.18740393],\n",
       "        [34.09101496]]),\n",
       " array([[0.3595079]]))"
      ]
     },
     "execution_count": 48,
     "metadata": {},
     "output_type": "execute_result"
    }
   ],
   "source": [
    "o_weight, o_bias"
   ]
  },
  {
   "cell_type": "code",
   "execution_count": 49,
   "id": "e362f587",
   "metadata": {},
   "outputs": [
    {
     "name": "stderr",
     "output_type": "stream",
     "text": [
      "C:\\Users\\Ruban\\AppData\\Local\\Temp\\ipykernel_14432\\2588747601.py:19: DeprecationWarning: Conversion of an array with ndim > 0 to a scalar is deprecated, and will error in future. Ensure you extract a single element from your array before performing this operation. (Deprecated NumPy 1.25.)\n",
      "  outputs[i] = xh @ o_weight + o_bias\n"
     ]
    }
   ],
   "source": [
    "outputs = np.zeros(3)\n",
    "hiddens = np.zeros((3, 5))\n",
    "prev_hidden = None\n",
    "sequence = df['tmax'].head(3).to_numpy()\n",
    "\n",
    "for i in range(3):\n",
    "    \n",
    "    x = sequence[i].reshape(1, 1)\n",
    "    \n",
    "    xi = x @ i_weight\n",
    "    if prev_hidden is None:\n",
    "        xh = xi\n",
    "    else:\n",
    "        xh = prev_hidden @ h_weight + xi + h_bias\n",
    "    \n",
    "    xh = np.tanh(xh)\n",
    "    prev_hidden = xh\n",
    "    hiddens[i, ] = xh\n",
    "    outputs[i] = xh @ o_weight + o_bias"
   ]
  },
  {
   "cell_type": "code",
   "execution_count": 50,
   "id": "c211782e",
   "metadata": {},
   "outputs": [
    {
     "data": {
      "text/plain": [
       "array([173.97118762, 173.97118762, 173.97118762])"
      ]
     },
     "execution_count": 50,
     "metadata": {},
     "output_type": "execute_result"
    }
   ],
   "source": [
    "outputs"
   ]
  },
  {
   "cell_type": "code",
   "execution_count": null,
   "id": "79792459",
   "metadata": {},
   "outputs": [],
   "source": [
    "import numpy as np\n",
    "i_weight = np.random.randn(2, 8)   # input feature size x hidden state  size\n",
    "xi = np.array([ \n",
    "    np.array([2, 2]),\n",
    "    np.array([3, 3]),\n",
    "    np.array([4, 4]),\n",
    "    np.array([5, 5]),\n",
    "])                                 # sequence length x input size\n",
    "previous_hid = None\n",
    "hidd_wei = np.random.rand(8, 8)\n",
    "hidden_bi = np.zeros((1, 8))      # Based on state size\n",
    "\n",
    "o_weight = np.random.randn(8, 4)  # hidden_state x output_size \n",
    "o_bias = np.zeros((1, 4))         # Based on output size\n"
   ]
  },
  {
   "cell_type": "code",
   "execution_count": 10,
   "id": "c36927e0",
   "metadata": {},
   "outputs": [
    {
     "data": {
      "text/plain": [
       "array([[2, 2]])"
      ]
     },
     "execution_count": 10,
     "metadata": {},
     "output_type": "execute_result"
    }
   ],
   "source": [
    "xi[0].reshape(1, 2)"
   ]
  },
  {
   "cell_type": "code",
   "execution_count": null,
   "id": "dd81c61e",
   "metadata": {},
   "outputs": [],
   "source": [
    "all_hidden = np.zeros((max(xi.shape), 8))         # sequence length x hidden state size\n",
    "output = np.zeros((4, 4))                         # sequence length x output size"
   ]
  },
  {
   "cell_type": "code",
   "execution_count": 25,
   "id": "ff369db4",
   "metadata": {},
   "outputs": [],
   "source": [
    "for i in range(max(xi.shape)):\n",
    "    in_x = xi[i].reshape(1, 2)\n",
    "    x_in = in_x @ i_weight\n",
    "    \n",
    "    if previous_hid is None:\n",
    "        xh = x_in\n",
    "    else:\n",
    "        xh = x_in + hidden_bi + previous_hid @ hidd_wei\n",
    "    xh = np.tanh(xh)\n",
    "    all_hidden[i, ] = xh\n",
    "    output[i,] = xh @ o_weight + o_bias"
   ]
  },
  {
   "cell_type": "code",
   "execution_count": 26,
   "id": "506d1e1f",
   "metadata": {},
   "outputs": [
    {
     "data": {
      "text/plain": [
       "array([[-2.11752224, -1.80204735, -3.55751103,  0.88045244],\n",
       "       [-2.43638825, -2.11038609, -3.83973386,  1.0558951 ],\n",
       "       [-2.59542413, -2.28821043, -4.00200501,  1.09319814],\n",
       "       [-2.67029921, -2.38446572, -4.10226613,  1.08733429]])"
      ]
     },
     "execution_count": 26,
     "metadata": {},
     "output_type": "execute_result"
    }
   ],
   "source": [
    "output"
   ]
  },
  {
   "cell_type": "code",
   "execution_count": 27,
   "id": "cd69c97b",
   "metadata": {},
   "outputs": [
    {
     "data": {
      "text/plain": [
       "array([[ 0.47344316,  0.73072973, -0.99966203,  0.72457193,  0.97570559,\n",
       "         0.97689375, -0.999911  ,  0.9980412 ],\n",
       "       [ 0.64794499,  0.88436137, -0.99999561,  0.88000859,  0.99727658,\n",
       "         0.99747593, -0.99999941,  0.99993861],\n",
       "       [ 0.77350613,  0.95273267, -0.99999994,  0.95025547,  0.99969763,\n",
       "         0.99972681, -1.        ,  0.99999808],\n",
       "       [ 0.85814056,  0.98108523, -1.        ,  0.979819  ,  0.99996647,\n",
       "         0.99997046, -1.        ,  0.99999994]])"
      ]
     },
     "execution_count": 27,
     "metadata": {},
     "output_type": "execute_result"
    }
   ],
   "source": [
    "all_hidden"
   ]
  },
  {
   "cell_type": "code",
   "execution_count": null,
   "id": "1485e626",
   "metadata": {},
   "outputs": [],
   "source": []
  }
 ],
 "metadata": {
  "kernelspec": {
   "display_name": "Python 3",
   "language": "python",
   "name": "python3"
  },
  "language_info": {
   "codemirror_mode": {
    "name": "ipython",
    "version": 3
   },
   "file_extension": ".py",
   "mimetype": "text/x-python",
   "name": "python",
   "nbconvert_exporter": "python",
   "pygments_lexer": "ipython3",
   "version": "3.12.9"
  }
 },
 "nbformat": 4,
 "nbformat_minor": 5
}
