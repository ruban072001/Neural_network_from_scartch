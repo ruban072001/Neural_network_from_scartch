{
 "cells": [
  {
   "cell_type": "code",
   "execution_count": null,
   "id": "6fa65efe-d726-46cd-a6ef-bf092a8cad7d",
   "metadata": {},
   "outputs": [],
   "source": []
  }
 ],
 "metadata": {
  "kernelspec": {
   "display_name": "",
   "name": ""
  },
  "language_info": {
   "name": ""
  }
 },
 "nbformat": 4,
 "nbformat_minor": 5
}
