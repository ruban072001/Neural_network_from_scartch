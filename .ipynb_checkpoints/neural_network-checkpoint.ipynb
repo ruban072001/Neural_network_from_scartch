{
 "cells": [
  {
   "cell_type": "code",
   "execution_count": 1,
   "id": "dc5c1da4-0f94-4a2f-a009-eeb73eb7d1e4",
   "metadata": {},
   "outputs": [],
   "source": [
    "import numpy as np\n",
    "from typing import Union"
   ]
  },
  {
   "cell_type": "code",
   "execution_count": 2,
   "id": "293001a4-2d5a-484a-a47a-2d1312de466c",
   "metadata": {},
   "outputs": [],
   "source": [
    "Array = Union[float, np.ndarray]\n",
    "\n",
    "class ReLU:\n",
    "\n",
    "    \"\"\"\n",
    "    ReLU Activation Function\n",
    "\n",
    "    Forward:\n",
    "        f(x) = max(0, x)\n",
    "\n",
    "    Backward:\n",
    "        f'(x) = 1 if x > 0 else 0\n",
    "    \"\"\"\n",
    "    def forward(self, x: Array) -> Array:\n",
    "        \"\"\"Applies ReLU Activation function to input X.\"\"\"\n",
    "\n",
    "        self.input = x\n",
    "        return np.maximum(0, x)\n",
    "\n",
    "    def backward(self, grad_output: Array) -> Array:\n",
    "        \"\"\"Computes the gradient of ReLU with respect to input x.\n",
    "        grad_output is the gradient flowing from the next layer.\"\"\"\n",
    "\n",
    "        return grad_output * (self.input > 0)"
   ]
  },
  {
   "cell_type": "code",
   "execution_count": 3,
   "id": "9184d7df-e734-4c8c-9a4b-2038a9c4749e",
   "metadata": {},
   "outputs": [],
   "source": [
    "class Sigmoid:\n",
    "    \"\"\"\n",
    "    Sigmoid Activation Function\n",
    "\n",
    "    Forward:\n",
    "        f(x) = 1 / (1 + e^(-x))\n",
    "\n",
    "    Backward:\n",
    "        f'(x) = f(x) * (1 - f(x))\n",
    "    \"\"\"\n",
    "\n",
    "    def forward(self, x: Array) -> Array:\n",
    "        \"\"\"Applies Sigmoid Activation function to input X.\"\"\"\n",
    "        \n",
    "        self.output = 1 / (1 + np.exp(-x))\n",
    "        return self.output\n",
    "    \n",
    "    def backward(self, grad_output: Array) -> Array:\n",
    "        \"\"\"Computes the gradient of Sigmoid with respect to input x.\n",
    "        grad_output is the gradient flowing from the next layer.\"\"\"\n",
    "\n",
    "        return grad_output * (self.output * (1 - self.output))"
   ]
  },
  {
   "cell_type": "code",
   "execution_count": 4,
   "id": "33fac4ce-50b6-4b64-9f0a-e38aad43ce9c",
   "metadata": {},
   "outputs": [],
   "source": [
    "class Tanh:\n",
    "    \"\"\"\n",
    "    Tanh Activation Function\n",
    "\n",
    "    Forward:\n",
    "        tanh(x) = (e^x - e^-x) / (e^x + e^-x)\n",
    "\n",
    "    Backward:\n",
    "        d/dx tanh(x) = 1 - tanh(x)^2\n",
    "    \"\"\"\n",
    "\n",
    "    def forward(self, x: Array) -> Array:\n",
    "        \"\"\"Applies Tanh Activation function to input X.\"\"\"\n",
    "        \n",
    "        self.output = np.tanh(x)\n",
    "        return self.output\n",
    "        \n",
    "    def backward(self, grad_output: Array) -> Array:\n",
    "        \"\"\"Computes the gradient of Tanh with respect to input x.\n",
    "        grad_output is the gradient flowing from the next layer.\"\"\"\n",
    "\n",
    "        return grad_output * (1 - (self.output ** 2))"
   ]
  },
  {
   "cell_type": "code",
   "execution_count": 5,
   "id": "95354cc1-bd28-4642-9799-72a8232938ff",
   "metadata": {},
   "outputs": [],
   "source": [
    "class LeakyReLU:\n",
    "    \"\"\"\n",
    "    LeakyReLU Activation Function\n",
    "\n",
    "    Forward:\n",
    "        f(x) = max(0, αx)\n",
    "\n",
    "    Backward:\n",
    "        f'(x) = 1 if x >= 0 else α\n",
    "    \"\"\"\n",
    "\n",
    "    def __init__(self, alpha: float = 0.01):\n",
    "        self.alpha = alpha\n",
    "        \n",
    "    def forward(self, x: Array) -> Array:\n",
    "        \"\"\"Applies LeakyReLU Activation function to input X.\"\"\"\n",
    "        self.input = x\n",
    "        return np.where(x >= 0, x, self.alpha * x)\n",
    "\n",
    "    def backward(self, grad_output: Array) -> Array:\n",
    "        \"\"\"Computes the gradient of LeakyReLU with respect to input x.\n",
    "        grad_output is the gradient flowing from the next layer.\"\"\"\n",
    "\n",
    "        return grad_output * (np.where(self.input >= 0, 1, self.alpha))"
   ]
  },
  {
   "cell_type": "code",
   "execution_count": 6,
   "id": "75f9af7d-5b76-411e-9404-28370da13a79",
   "metadata": {},
   "outputs": [],
   "source": [
    "class Softmax:\n",
    "    \"\"\"\n",
    "    Softmax Activation Function\n",
    "\n",
    "    Forward:\n",
    "        softmax(z_i) = e^(z_i) / sum(e^(z_j))\n",
    "\n",
    "    Backward:\n",
    "        Returns gradient of softmax output w.r.t input z\n",
    "        Usually combined with CrossEntropy for efficient backprop\n",
    "    \"\"\"\n",
    "\n",
    "    def forward(self, x: Array) -> Array:\n",
    "        \n",
    "        \"\"\"Applies Softmax Activation function to input X.\"\"\"\n",
    "\n",
    "        x = np.atleast_2d(x)\n",
    "        x_shifted = x - np.max(x, axis=1, keepdims=True)\n",
    "        exps = np.exp(x_shifted)\n",
    "        self.output = exps / np.sum(exps, axis=1, keepdims=True)\n",
    "        return self.output\n",
    "\n",
    "    def backward(self, grad_output: Array) -> Array:\n",
    "        \"\"\"\n",
    "        Compute softmax derivative using the Jacobian matrix.\n",
    "        Rarely used alone — often fused with cross-entropy for speed.\n",
    "        \"\"\"\n",
    "        batch_size, classes = grad_output.shape\n",
    "        grad_input = np.ones_like(grad_output)\n",
    "\n",
    "        for b in range(batch_size):\n",
    "            y = self.output[b].reshape(-1, 1)\n",
    "            jacobian = np.diagflat(y) - np.dot(y, y.T)\n",
    "            grad_input[b] = np.dot(jacobian, grad_output[b])\n",
    "\n",
    "        return grad_input"
   ]
  },
  {
   "cell_type": "code",
   "execution_count": 7,
   "id": "fee9719a-bd38-4997-be72-de968f6e85a0",
   "metadata": {},
   "outputs": [],
   "source": [
    "class CrossEntropywithSoftmax:\n",
    "    \n",
    "    def __init__(self):\n",
    "        self.logit: Union[np.ndarray, None] = None\n",
    "        self.probs: Union[np.ndarray, None] = None\n",
    "        self.target: Union[np.ndarray, None] = None\n",
    "\n",
    "\n",
    "    def forward(self, x: Array, target: Array) -> float:\n",
    "\n",
    "        self.logit = x\n",
    "        self.target = target\n",
    "\n",
    "        x = np.atleast_2d(x)\n",
    "        shifted_x = x - np.max(x, axis=1, keepdims=True)\n",
    "        exps = np.exp(shifted_x)\n",
    "        self.probs = exps / np.sum(exps, axis=1, keepdims=True)\n",
    "\n",
    "        if target.ndim == 1:\n",
    "            one_hot = np.zeros_like(x)\n",
    "            one_hot[np.arange(len(target)), target] = 1\n",
    "            self.target = one_hot\n",
    "\n",
    "        eps = 1e-10\n",
    "        loss_prob = np.log(np.clip(self.probs, eps, 1 - eps))\n",
    "        loss = -np.sum(loss_prob * self.target) / x.shape[0]\n",
    "        return loss\n",
    "\n",
    "    def backward(self):\n",
    "\n",
    "        return (self.probs - self.target) / self.logit.shape[0]"
   ]
  },
  {
   "cell_type": "code",
   "execution_count": 8,
   "id": "eb802cc6-832a-4221-903b-c4de6429d651",
   "metadata": {},
   "outputs": [],
   "source": [
    "class Dense:\n",
    "\n",
    "    def __init__(self, input_dim: int, output_dim: int):\n",
    "        \"\"\"\n",
    "        Initialize weights and bias.\n",
    "        Weights are small random values.\n",
    "        Bias is initialized to zero.\n",
    "        \"\"\"\n",
    "\n",
    "        self.input_dim = input_dim\n",
    "        self.output_dim = output_dim\n",
    "\n",
    "        limit = np.sqrt(6 / (input_dim + output_dim))\n",
    "        self.w = np.random.uniform(-limit, limit, (output_dim, input_dim))\n",
    "        self.b = np.zeros((1, output_dim))\n",
    "\n",
    "        self.input: Union[np.ndarray, None] = None\n",
    "        self.dw: Union[np.ndarray, None] = None\n",
    "        self.db: Union[np.ndarray, None] = None\n",
    "\n",
    "    def forward(self, x: Array) -> Array:\n",
    "        \"\"\"\n",
    "        Forward pass: output = xW^T + b\n",
    "        \"\"\"\n",
    "        self.input = np.atleast_2d(x)\n",
    "        return np.dot(self.input, self.w.T) + self.b\n",
    "\n",
    "    def backward(self, grad_output: Array) -> Array:\n",
    "        \"\"\"\n",
    "        Backward pass:\n",
    "        - Compute gradients for weights and bias\n",
    "        - Return gradient w.r.t input for previous layer\n",
    "        \"\"\"\n",
    "        grad_output = np.atleast_2d(grad_output)\n",
    "\n",
    "        self.dw = np.dot(grad_output.T, self.input)\n",
    "        self.db = np.sum(grad_output, axis=0, keepdims=True)\n",
    "\n",
    "        grad_input = np.dot(grad_output, self.w)\n",
    "\n",
    "        return grad_input\n",
    "\n",
    "    def update(self, lr: float = 0.01):\n",
    "        \"\"\"\n",
    "        Update weights and biases using gradient descent\n",
    "        \"\"\"\n",
    "        self.w -= lr * self.dw\n",
    "        self.b -= lr * self.db"
   ]
  },
  {
   "cell_type": "code",
   "execution_count": 9,
   "id": "c52d4477-a54e-4880-8660-a546926522f0",
   "metadata": {},
   "outputs": [],
   "source": [
    "class Model:\n",
    "\n",
    "    def __init__(self):\n",
    "        self.layers = []\n",
    "\n",
    "    def add(self, layer):\n",
    "        \"\"\"Add a new layer (Dense, Activation) to the model.\"\"\"\n",
    "        self.layers.append(layer)\n",
    "\n",
    "    def forward(self, x):\n",
    "        \"\"\"Forward pass through all layers\"\"\"\n",
    "        for layer in self.layers:\n",
    "            x = layer.forward(x)\n",
    "        return x\n",
    "\n",
    "    def backward(self, grad_output):\n",
    "        \"\"\"Backward pass through all layers\"\"\"\n",
    "        for layer in reversed(self.layers):\n",
    "            grad_output = layer.backward(grad_output)\n",
    "        return grad_output\n",
    "\n",
    "    def fit(self, x, y, epochs, loss_fn, lr = 0.01):\n",
    "        for epoch in range(epochs):\n",
    "            output = self.forward(x)\n",
    "\n",
    "            loss = loss_fn.forward(output, y)\n",
    "\n",
    "            loss_grad = loss_fn.backward()\n",
    "            self.backward(loss_grad)\n",
    "\n",
    "            for layer in self.layers:\n",
    "                if hasattr(layer, \"update\"):\n",
    "                    layer.update(lr)\n",
    "            print(f\"Epoch {epoch+1}/{epochs} | Loss: {loss:.6f}\")"
   ]
  },
  {
   "cell_type": "code",
   "execution_count": 44,
   "id": "3c05b7fc-4994-42f0-8565-bf94498f72fa",
   "metadata": {},
   "outputs": [],
   "source": [
    "class MSELoss:\n",
    "    \n",
    "    def forward(self, predicted, True_lables):\n",
    "        predicted = np.atleast_2d(predicted)\n",
    "        self.predicted = predicted\n",
    "        self.True_lables = True_lables\n",
    "        return 0.5 * np.mean((predicted - True_lables) ** 2)\n",
    "        \n",
    "    def backward(self):\n",
    "        return (self.True_lables - self.predicted) / self.True_lables.shape[0]"
   ]
  },
  {
   "cell_type": "code",
   "execution_count": 11,
   "id": "d990f6b3-16fa-4e67-af7d-cfc04dbf5a28",
   "metadata": {},
   "outputs": [],
   "source": [
    "# class SGD:\n",
    "\n",
    "#     def __init__(self, lr: float = 0.01):\n",
    "#         self.lr = lr\n",
    "\n",
    "#     def step(self, layers):\n",
    "#         for layer in layers:\n",
    "#             if hasattr(layer, \"w\"):\n",
    "#                 layer.w -= self.lr * layer.dw\n",
    "#                 layer.b -= self.lr * layer.db"
   ]
  },
  {
   "cell_type": "code",
   "execution_count": 12,
   "id": "1c73943d-292a-4179-9561-c3e10e44693c",
   "metadata": {},
   "outputs": [
    {
     "data": {
      "text/plain": [
       "array([[-0.13471852,  0.45952206, -0.32474822, -0.92289803,  0.03506049],\n",
       "       [ 0.59406466, -0.16697921, -0.1507749 ,  0.21418862,  0.20444496],\n",
       "       [-0.41766161,  0.72988176,  0.53904327, -0.83876719, -0.91689403]])"
      ]
     },
     "execution_count": 12,
     "metadata": {},
     "output_type": "execute_result"
    }
   ],
   "source": [
    "x = np.random.uniform(-1, 1, (3, 5))\n",
    "x"
   ]
  },
  {
   "cell_type": "code",
   "execution_count": 17,
   "id": "ec9809db-b185-4b52-a84b-d50c8e24c8b0",
   "metadata": {},
   "outputs": [],
   "source": [
    "y_true = np.array([\n",
    "    [0, 1],\n",
    "    [1, 0],\n",
    "    [1, 0]\n",
    "])"
   ]
  },
  {
   "cell_type": "code",
   "execution_count": 32,
   "id": "1b29a0da-e9f2-4b98-8d1d-492017f86764",
   "metadata": {},
   "outputs": [],
   "source": [
    "from tensorflow import keras"
   ]
  },
  {
   "cell_type": "code",
   "execution_count": 33,
   "id": "2d95dced-facb-407e-b8e4-c4aa72966e4c",
   "metadata": {},
   "outputs": [],
   "source": [
    "(x_train, y_train), (x_test, y_test) = keras.datasets.mnist.load_data()"
   ]
  },
  {
   "cell_type": "code",
   "execution_count": 35,
   "id": "a7746fd4-a836-4ed1-89a4-0b4c6e58fbc8",
   "metadata": {},
   "outputs": [
    {
     "data": {
      "text/plain": [
       "((60000, 28, 28), (60000,))"
      ]
     },
     "execution_count": 35,
     "metadata": {},
     "output_type": "execute_result"
    }
   ],
   "source": [
    "x_train.shape, y_train.shape"
   ]
  },
  {
   "cell_type": "code",
   "execution_count": 36,
   "id": "3fac1464-6809-490e-8c99-728ad483d4fe",
   "metadata": {},
   "outputs": [
    {
     "data": {
      "text/plain": [
       "(60000, 784)"
      ]
     },
     "execution_count": 36,
     "metadata": {},
     "output_type": "execute_result"
    }
   ],
   "source": [
    "x_train = x_train.reshape((60000, 784))\n",
    "x_train.shape"
   ]
  },
  {
   "cell_type": "code",
   "execution_count": 48,
   "id": "4c75f322-1878-4b0c-b491-707a94aec1c7",
   "metadata": {},
   "outputs": [],
   "source": [
    "def one_hot_encode(y, num_classes=10):\n",
    "    one_hot = np.zeros((y.shape[0], num_classes))\n",
    "    one_hot[np.arange(y.shape[0]), y] = 1\n",
    "    return one_hot"
   ]
  },
  {
   "cell_type": "code",
   "execution_count": 51,
   "id": "124a50df-2bef-40b8-adf5-25f1aeeffa42",
   "metadata": {},
   "outputs": [],
   "source": [
    "y_train = one_hot_encode(y_train)"
   ]
  },
  {
   "cell_type": "code",
   "execution_count": 57,
   "id": "1cf7587d-fa95-4dc9-a943-4c15a190c08a",
   "metadata": {},
   "outputs": [],
   "source": [
    "model = Model()"
   ]
  },
  {
   "cell_type": "code",
   "execution_count": 58,
   "id": "53035739-53ca-49d5-8483-5af876887328",
   "metadata": {},
   "outputs": [],
   "source": [
    "model.add(Dense(784, 16))\n",
    "model.add(ReLU())\n",
    "model.add(Dense(16, 16))\n",
    "model.add(ReLU())\n",
    "model.add(Dense(16, 10))\n",
    "loss = CrossEntropywithSoftmax()"
   ]
  },
  {
   "cell_type": "code",
   "execution_count": 61,
   "id": "cc102df3-35c7-4e54-9ab1-673850b54ba0",
   "metadata": {},
   "outputs": [
    {
     "name": "stdout",
     "output_type": "stream",
     "text": [
      "Epoch 1/10 | Loss: 2.301857\n",
      "Epoch 2/10 | Loss: 2.301842\n",
      "Epoch 3/10 | Loss: 2.301828\n",
      "Epoch 4/10 | Loss: 2.301813\n",
      "Epoch 5/10 | Loss: 2.301799\n",
      "Epoch 6/10 | Loss: 2.301786\n",
      "Epoch 7/10 | Loss: 2.301772\n",
      "Epoch 8/10 | Loss: 2.301759\n",
      "Epoch 9/10 | Loss: 2.301746\n",
      "Epoch 10/10 | Loss: 2.301734\n"
     ]
    }
   ],
   "source": [
    "model.fit(x_train, y_train, epochs=10, loss_fn=loss, lr = 0.1)"
   ]
  },
  {
   "cell_type": "code",
   "execution_count": null,
   "id": "d5e3dd28-a195-48be-8761-f96e4ca31862",
   "metadata": {},
   "outputs": [],
   "source": []
  },
  {
   "cell_type": "code",
   "execution_count": null,
   "id": "5ffad412-9b7f-4baa-803c-7f00b83431b8",
   "metadata": {},
   "outputs": [],
   "source": []
  },
  {
   "cell_type": "code",
   "execution_count": null,
   "id": "9edd7d69-e7fc-4f73-9be4-5de17c0d429e",
   "metadata": {},
   "outputs": [],
   "source": []
  },
  {
   "cell_type": "code",
   "execution_count": null,
   "id": "2a90423f-49ed-45c3-bca9-767ed5f6b839",
   "metadata": {},
   "outputs": [],
   "source": []
  },
  {
   "cell_type": "code",
   "execution_count": null,
   "id": "a6fd1722-fba8-4570-9136-d5b6ff71f670",
   "metadata": {},
   "outputs": [],
   "source": []
  },
  {
   "cell_type": "code",
   "execution_count": null,
   "id": "8b2ff94f-7ed5-47de-bf52-bc2f5c2fd5c7",
   "metadata": {},
   "outputs": [],
   "source": []
  },
  {
   "cell_type": "code",
   "execution_count": null,
   "id": "cc423117-2475-4b60-800f-d00fbdf32734",
   "metadata": {},
   "outputs": [],
   "source": []
  },
  {
   "cell_type": "code",
   "execution_count": null,
   "id": "c771dba5-10c2-4a50-89c7-b943a8ab39c4",
   "metadata": {},
   "outputs": [],
   "source": []
  },
  {
   "cell_type": "code",
   "execution_count": null,
   "id": "63f8dbc8-a0e1-4664-9f01-a1e07df11edb",
   "metadata": {},
   "outputs": [],
   "source": []
  },
  {
   "cell_type": "code",
   "execution_count": null,
   "id": "11f505f0-573b-43c5-b6f3-084f26b0147d",
   "metadata": {},
   "outputs": [],
   "source": []
  },
  {
   "cell_type": "code",
   "execution_count": null,
   "id": "7c1feb11-318e-49e7-a9e8-1cbf53b58fc6",
   "metadata": {},
   "outputs": [],
   "source": []
  },
  {
   "cell_type": "code",
   "execution_count": null,
   "id": "e7299c0f-937c-4057-977a-4acf4bc92ba0",
   "metadata": {},
   "outputs": [],
   "source": []
  },
  {
   "cell_type": "code",
   "execution_count": null,
   "id": "18291e35-a1a4-4c48-9ed2-1570bb756525",
   "metadata": {},
   "outputs": [],
   "source": []
  },
  {
   "cell_type": "code",
   "execution_count": null,
   "id": "9829ba36-72b1-4b2b-90b1-7bbe91fe8d48",
   "metadata": {},
   "outputs": [],
   "source": []
  },
  {
   "cell_type": "code",
   "execution_count": null,
   "id": "39600e5b-cbd8-40d7-9e6f-43f9ddc1798a",
   "metadata": {},
   "outputs": [],
   "source": []
  },
  {
   "cell_type": "code",
   "execution_count": null,
   "id": "f0102913-2245-4ca1-a010-bb07a4fad9cb",
   "metadata": {},
   "outputs": [],
   "source": []
  },
  {
   "cell_type": "code",
   "execution_count": null,
   "id": "e10c7969-712b-4e67-bf55-e4f5115612fc",
   "metadata": {},
   "outputs": [],
   "source": []
  },
  {
   "cell_type": "code",
   "execution_count": null,
   "id": "856f6279-be9b-45df-aa74-6e2a86bb9add",
   "metadata": {},
   "outputs": [],
   "source": []
  },
  {
   "cell_type": "code",
   "execution_count": null,
   "id": "e9306a94-c31e-490c-b7ef-8c1b29c2608b",
   "metadata": {},
   "outputs": [],
   "source": []
  },
  {
   "cell_type": "code",
   "execution_count": null,
   "id": "d40d3fa7-bb8f-4d5d-8d88-4f9a9254381f",
   "metadata": {},
   "outputs": [],
   "source": []
  },
  {
   "cell_type": "code",
   "execution_count": null,
   "id": "6c2032de-303a-4bc2-9fba-987b71948275",
   "metadata": {},
   "outputs": [],
   "source": []
  },
  {
   "cell_type": "code",
   "execution_count": null,
   "id": "5c53e71e-bada-4dbf-a444-09b1917bd7b5",
   "metadata": {},
   "outputs": [],
   "source": []
  },
  {
   "cell_type": "code",
   "execution_count": null,
   "id": "d9877ef0-ac8c-4117-8c29-1a96d48bad35",
   "metadata": {},
   "outputs": [],
   "source": []
  },
  {
   "cell_type": "code",
   "execution_count": null,
   "id": "4b2c23d5-b2f7-457b-b341-6a46517d4c1e",
   "metadata": {},
   "outputs": [],
   "source": []
  },
  {
   "cell_type": "code",
   "execution_count": null,
   "id": "8dc7eba5-dc00-4f20-af5e-fb6f664e8c08",
   "metadata": {},
   "outputs": [],
   "source": []
  },
  {
   "cell_type": "code",
   "execution_count": null,
   "id": "de4250e0-b2e1-40cd-9aa5-7e79cc78852b",
   "metadata": {},
   "outputs": [],
   "source": []
  },
  {
   "cell_type": "code",
   "execution_count": null,
   "id": "038b1f65-4cd8-49e2-af99-df1960ba863a",
   "metadata": {},
   "outputs": [],
   "source": []
  },
  {
   "cell_type": "code",
   "execution_count": null,
   "id": "65b9f446-6423-4c93-855c-dabf0008bfc5",
   "metadata": {},
   "outputs": [],
   "source": []
  },
  {
   "cell_type": "code",
   "execution_count": null,
   "id": "e197e1fe-1aa2-4d73-a4ea-f782ac699f58",
   "metadata": {},
   "outputs": [],
   "source": []
  },
  {
   "cell_type": "code",
   "execution_count": null,
   "id": "55a93b58-0abf-4d38-8170-720514fa8033",
   "metadata": {},
   "outputs": [],
   "source": []
  },
  {
   "cell_type": "code",
   "execution_count": null,
   "id": "355ea1c5-eb7b-47ba-a5a1-e4cc9cb03709",
   "metadata": {},
   "outputs": [],
   "source": []
  },
  {
   "cell_type": "code",
   "execution_count": null,
   "id": "24241353-bf42-46f4-bb73-094aaff9ffa6",
   "metadata": {},
   "outputs": [],
   "source": []
  },
  {
   "cell_type": "code",
   "execution_count": null,
   "id": "4681ef56-11e3-45bb-bf03-cff3c7f26e8f",
   "metadata": {},
   "outputs": [],
   "source": []
  },
  {
   "cell_type": "code",
   "execution_count": null,
   "id": "ff83ae24-62bd-4d4a-ae98-d1504817204f",
   "metadata": {},
   "outputs": [],
   "source": []
  },
  {
   "cell_type": "code",
   "execution_count": null,
   "id": "ed261221-fb6c-4353-a990-564308a4f713",
   "metadata": {},
   "outputs": [],
   "source": []
  },
  {
   "cell_type": "code",
   "execution_count": null,
   "id": "f1afde07-eaa3-4687-abf2-475f2cb5b4f2",
   "metadata": {},
   "outputs": [],
   "source": []
  },
  {
   "cell_type": "code",
   "execution_count": null,
   "id": "0797fe0f-5fb3-4939-93f0-ae9dcff1ff30",
   "metadata": {},
   "outputs": [],
   "source": []
  },
  {
   "cell_type": "code",
   "execution_count": null,
   "id": "138e179c-c992-4224-828e-4620e758378d",
   "metadata": {},
   "outputs": [],
   "source": []
  },
  {
   "cell_type": "code",
   "execution_count": null,
   "id": "e5d88cbb-d1eb-413e-bcda-edc37907703b",
   "metadata": {},
   "outputs": [],
   "source": []
  },
  {
   "cell_type": "code",
   "execution_count": null,
   "id": "d86b7cc4-9b11-4eb5-ade2-d011d3b4d338",
   "metadata": {},
   "outputs": [],
   "source": []
  },
  {
   "cell_type": "code",
   "execution_count": null,
   "id": "aa75024b-ba93-42e9-bfb5-1456656a65f6",
   "metadata": {},
   "outputs": [],
   "source": []
  },
  {
   "cell_type": "code",
   "execution_count": null,
   "id": "9247dfd7-12e1-48cb-8ad0-cc432eedc6f2",
   "metadata": {},
   "outputs": [],
   "source": []
  },
  {
   "cell_type": "code",
   "execution_count": null,
   "id": "a993a814-c40c-4157-bd96-cbeff9130b5f",
   "metadata": {},
   "outputs": [],
   "source": []
  },
  {
   "cell_type": "code",
   "execution_count": null,
   "id": "bc9ac0c2-336c-4611-8ea5-997a8c81c96a",
   "metadata": {},
   "outputs": [],
   "source": []
  },
  {
   "cell_type": "code",
   "execution_count": null,
   "id": "968f5e51-0b44-4144-b9c7-2269b2c73228",
   "metadata": {},
   "outputs": [],
   "source": []
  },
  {
   "cell_type": "code",
   "execution_count": null,
   "id": "f033eba9-e06d-426d-b286-a3f2b6781e56",
   "metadata": {},
   "outputs": [],
   "source": []
  },
  {
   "cell_type": "code",
   "execution_count": null,
   "id": "966324ec-5dac-489f-9f41-b87857d3beb4",
   "metadata": {},
   "outputs": [],
   "source": []
  },
  {
   "cell_type": "code",
   "execution_count": null,
   "id": "554368fd-f247-4bec-9a68-d76edde6bf8e",
   "metadata": {},
   "outputs": [],
   "source": []
  },
  {
   "cell_type": "code",
   "execution_count": null,
   "id": "f996e7f7-e12f-454a-a7c3-db6503019b91",
   "metadata": {},
   "outputs": [],
   "source": []
  },
  {
   "cell_type": "code",
   "execution_count": null,
   "id": "4a6edcbf-eeac-4aa9-8416-d0ee20777966",
   "metadata": {},
   "outputs": [],
   "source": []
  },
  {
   "cell_type": "code",
   "execution_count": null,
   "id": "0160f647-5de4-4569-aa18-b9c849af9e83",
   "metadata": {},
   "outputs": [],
   "source": []
  },
  {
   "cell_type": "code",
   "execution_count": null,
   "id": "15899def-6edf-4aca-ab50-d86ee30473a1",
   "metadata": {},
   "outputs": [],
   "source": []
  },
  {
   "cell_type": "code",
   "execution_count": null,
   "id": "d52f9eda-92e9-4209-b7fe-ecbd34050558",
   "metadata": {},
   "outputs": [],
   "source": []
  },
  {
   "cell_type": "code",
   "execution_count": null,
   "id": "8a9ef8cc-b859-45a3-911f-548a841e7cd6",
   "metadata": {},
   "outputs": [],
   "source": []
  },
  {
   "cell_type": "code",
   "execution_count": null,
   "id": "5b57bfd3-eca8-4bf1-9a0f-34fe827ad0be",
   "metadata": {},
   "outputs": [],
   "source": []
  },
  {
   "cell_type": "code",
   "execution_count": 52,
   "id": "9c1b9824-fd32-4c11-a029-870115851154",
   "metadata": {},
   "outputs": [],
   "source": [
    "x = np.array([[1.0, 2.0]])\n",
    "y_true = np.array([[1.0]])"
   ]
  },
  {
   "cell_type": "code",
   "execution_count": 53,
   "id": "b223d5f7-ff3e-4259-8e7e-ceecbe41af95",
   "metadata": {},
   "outputs": [],
   "source": [
    "w1 = np.array([[-0.25091976,  0.90142861,  0.46398788,  0.19731697],\n",
    "       [-0.68796272, -0.68801096, -0.88383278,  0.73235229]])\n",
    "b1 = np.array([[0, 0, 0, 0]])"
   ]
  },
  {
   "cell_type": "code",
   "execution_count": 54,
   "id": "cc7a7d7a-b5f1-4b01-b3ef-ba3b036a0683",
   "metadata": {},
   "outputs": [
    {
     "data": {
      "text/plain": [
       "array([[-1.6268452 , -0.47459331, -1.30367768,  1.66202155]])"
      ]
     },
     "execution_count": 54,
     "metadata": {},
     "output_type": "execute_result"
    }
   ],
   "source": [
    "z1 = np.dot(x, w1) + b1\n",
    "z1"
   ]
  },
  {
   "cell_type": "code",
   "execution_count": 55,
   "id": "3fde7651-8f93-41a3-a382-c65b428cbb73",
   "metadata": {},
   "outputs": [
    {
     "data": {
      "text/plain": [
       "array([[0.        , 0.        , 0.        , 1.66202155]])"
      ]
     },
     "execution_count": 55,
     "metadata": {},
     "output_type": "execute_result"
    }
   ],
   "source": [
    "a1 = np.maximum(0, z1)\n",
    "a1"
   ]
  },
  {
   "cell_type": "code",
   "execution_count": 56,
   "id": "be4a5a03-4741-42f9-9a5f-4e63df2e5503",
   "metadata": {},
   "outputs": [],
   "source": [
    "w2 = np.array([[ 0.18722862,  0.38527555, -0.88770502],\n",
    "       [ 0.87010397,  0.61556416, -0.53264447],\n",
    "       [-0.58914568, -0.58622094, -0.36247293],\n",
    "       [ 0.04584   , -0.12601334, -0.38656852]])\n",
    "b2 = np.array([[0, 0, 0]])"
   ]
  },
  {
   "cell_type": "code",
   "execution_count": 57,
   "id": "b15f268e-a8d8-4053-b608-45829abb54ea",
   "metadata": {},
   "outputs": [
    {
     "data": {
      "text/plain": [
       "array([[ 0.07618707, -0.20943689, -0.64248521]])"
      ]
     },
     "execution_count": 57,
     "metadata": {},
     "output_type": "execute_result"
    }
   ],
   "source": [
    "z2 = np.dot(a1, w2) + b2\n",
    "z2"
   ]
  },
  {
   "cell_type": "code",
   "execution_count": 58,
   "id": "fad2c5d3-dbad-48ac-bcb1-94cc4283e586",
   "metadata": {},
   "outputs": [
    {
     "data": {
      "text/plain": [
       "array([[0.07618707, 0.        , 0.        ]])"
      ]
     },
     "execution_count": 58,
     "metadata": {},
     "output_type": "execute_result"
    }
   ],
   "source": [
    "a2 = np.maximum(0, z2)\n",
    "a2"
   ]
  },
  {
   "cell_type": "code",
   "execution_count": 59,
   "id": "83f99dce-71a9-413c-913f-17ee8137637b",
   "metadata": {},
   "outputs": [],
   "source": [
    "w3 = np.array([[ 0.27398252],\n",
    "       [-0.88305609],\n",
    "       [-0.50913955]])\n",
    "b3 = np.array([[0]])"
   ]
  },
  {
   "cell_type": "code",
   "execution_count": 61,
   "id": "08e405c5-0f59-46a1-97ac-5ac1e566921e",
   "metadata": {},
   "outputs": [
    {
     "data": {
      "text/plain": [
       "array([[0.02087392]])"
      ]
     },
     "execution_count": 61,
     "metadata": {},
     "output_type": "execute_result"
    }
   ],
   "source": [
    "z3 = np.dot(a2, w3) + b3\n",
    "z3"
   ]
  },
  {
   "cell_type": "code",
   "execution_count": 70,
   "id": "a9be4a51-758e-499e-85e4-7c0de5762bc2",
   "metadata": {},
   "outputs": [
    {
     "data": {
      "text/plain": [
       "array([[0.50521829]])"
      ]
     },
     "execution_count": 70,
     "metadata": {},
     "output_type": "execute_result"
    }
   ],
   "source": [
    "a3 = 1 / (1 + np.exp(-z3))\n",
    "a3"
   ]
  },
  {
   "cell_type": "code",
   "execution_count": 71,
   "id": "26b82c76-fd7a-4669-b5ba-097ec3465fab",
   "metadata": {},
   "outputs": [
    {
     "data": {
      "text/plain": [
       "0.12240446941668841"
      ]
     },
     "execution_count": 71,
     "metadata": {},
     "output_type": "execute_result"
    }
   ],
   "source": [
    "loss = 0.5 * np.mean((a3 - y_true) ** 2)\n",
    "loss"
   ]
  },
  {
   "cell_type": "code",
   "execution_count": 93,
   "id": "1c26411b-9a9c-4757-8a64-dbfc8432bf5c",
   "metadata": {},
   "outputs": [
    {
     "data": {
      "text/plain": [
       "array([[-0.49478171]])"
      ]
     },
     "execution_count": 93,
     "metadata": {},
     "output_type": "execute_result"
    }
   ],
   "source": [
    "loss_wrt_a3 = a3 - y_true\n",
    "loss_wrt_a3"
   ]
  },
  {
   "cell_type": "code",
   "execution_count": 94,
   "id": "a57eb2b3-58a6-47ae-af62-f5c23d63c8c2",
   "metadata": {},
   "outputs": [
    {
     "data": {
      "text/plain": [
       "array([[-0.12368195]])"
      ]
     },
     "execution_count": 94,
     "metadata": {},
     "output_type": "execute_result"
    }
   ],
   "source": [
    "a3_wrt_z3 = loss_wrt_a3 * a3 * (1 - a3)\n",
    "a3_wrt_z3"
   ]
  },
  {
   "cell_type": "code",
   "execution_count": 97,
   "id": "260323a2-2b7f-40eb-af3e-4aed93ffb2a3",
   "metadata": {},
   "outputs": [
    {
     "data": {
      "text/plain": [
       "array([[-0.00942297],\n",
       "       [ 0.        ],\n",
       "       [ 0.        ]])"
      ]
     },
     "execution_count": 97,
     "metadata": {},
     "output_type": "execute_result"
    }
   ],
   "source": [
    "z3_wrt_a2 = np.dot(a2.T, a3_wrt_z3)\n",
    "z3_wrt_a2"
   ]
  },
  {
   "cell_type": "code",
   "execution_count": 100,
   "id": "00204493-f2fd-43d8-b3e9-6f5766a61a4d",
   "metadata": {},
   "outputs": [
    {
     "data": {
      "text/plain": [
       "array([[-0.03388669,  0.1092181 ,  0.06297137]])"
      ]
     },
     "execution_count": 100,
     "metadata": {},
     "output_type": "execute_result"
    }
   ],
   "source": [
    "z3_wrt_a2_we = np.dot(a3_wrt_z3, w3.T)\n",
    "z3_wrt_a2_we"
   ]
  },
  {
   "cell_type": "code",
   "execution_count": 103,
   "id": "b1d27491-7e6f-4b1e-b26f-cb6da2a375f6",
   "metadata": {},
   "outputs": [
    {
     "data": {
      "text/plain": [
       "array([[-0.03388669,  0.        ,  0.        ]])"
      ]
     },
     "execution_count": 103,
     "metadata": {},
     "output_type": "execute_result"
    }
   ],
   "source": [
    "a2_wrt_z2 = np.where(z2>0, 1, 0) * z3_wrt_a2_we\n",
    "a2_wrt_z2"
   ]
  },
  {
   "cell_type": "code",
   "execution_count": 106,
   "id": "2143cfb4-6a03-4cb6-a708-b4f443e790a0",
   "metadata": {},
   "outputs": [
    {
     "data": {
      "text/plain": [
       "array([[ 0.        ,  0.        ,  0.        ],\n",
       "       [ 0.        ,  0.        ,  0.        ],\n",
       "       [ 0.        ,  0.        ,  0.        ],\n",
       "       [-0.05632041,  0.        ,  0.        ]])"
      ]
     },
     "execution_count": 106,
     "metadata": {},
     "output_type": "execute_result"
    }
   ],
   "source": [
    "z2_wrt_a1 = np.dot(a1.T, a2_wrt_z2)\n",
    "z2_wrt_a1"
   ]
  },
  {
   "cell_type": "code",
   "execution_count": 108,
   "id": "95e8d6db-b951-4019-a0a7-81d24fd2a89a",
   "metadata": {},
   "outputs": [
    {
     "data": {
      "text/plain": [
       "array([[-0.00634456, -0.02948495,  0.0199642 , -0.00155337]])"
      ]
     },
     "execution_count": 108,
     "metadata": {},
     "output_type": "execute_result"
    }
   ],
   "source": [
    "z2_wrt_a1_we = np.dot(a2_wrt_z2, w2.T)\n",
    "z2_wrt_a1_we"
   ]
  },
  {
   "cell_type": "code",
   "execution_count": 110,
   "id": "9cf2449e-06d1-4a21-8983-1554f6bf477c",
   "metadata": {},
   "outputs": [
    {
     "data": {
      "text/plain": [
       "array([[-0.        , -0.        ,  0.        , -0.00155337]])"
      ]
     },
     "execution_count": 110,
     "metadata": {},
     "output_type": "execute_result"
    }
   ],
   "source": [
    "a1_wrt_z1 = np.where(z1>0, 1, 0) * z2_wrt_a1_we\n",
    "a1_wrt_z1"
   ]
  },
  {
   "cell_type": "code",
   "execution_count": 112,
   "id": "01d44f87-fd9e-492c-b780-a2dcca073fb2",
   "metadata": {},
   "outputs": [
    {
     "data": {
      "text/plain": [
       "array([[ 0.        ,  0.        ,  0.        , -0.00155337],\n",
       "       [ 0.        ,  0.        ,  0.        , -0.00310673]])"
      ]
     },
     "execution_count": 112,
     "metadata": {},
     "output_type": "execute_result"
    }
   ],
   "source": [
    "z1_wrt_w1 = np.dot(x.T, a1_wrt_z1)\n",
    "z1_wrt_w1"
   ]
  },
  {
   "cell_type": "code",
   "execution_count": null,
   "id": "3bf909d9-58d6-49e2-9d39-c387f21dcb01",
   "metadata": {},
   "outputs": [],
   "source": []
  }
 ],
 "metadata": {
  "kernelspec": {
   "display_name": "Python 3 (ipykernel)",
   "language": "python",
   "name": "python3"
  },
  "language_info": {
   "codemirror_mode": {
    "name": "ipython",
    "version": 3
   },
   "file_extension": ".py",
   "mimetype": "text/x-python",
   "name": "python",
   "nbconvert_exporter": "python",
   "pygments_lexer": "ipython3",
   "version": "3.12.8"
  }
 },
 "nbformat": 4,
 "nbformat_minor": 5
}
